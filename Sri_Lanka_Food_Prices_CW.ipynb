{
  "nbformat": 4,
  "nbformat_minor": 0,
  "metadata": {
    "colab": {
      "provenance": [],
      "authorship_tag": "ABX9TyMXnaEOBhJh6BXonZiPC8se",
      "include_colab_link": true
    },
    "kernelspec": {
      "name": "python3",
      "display_name": "Python 3"
    },
    "language_info": {
      "name": "python"
    }
  },
  "cells": [
    {
      "cell_type": "markdown",
      "metadata": {
        "id": "view-in-github",
        "colab_type": "text"
      },
      "source": [
        "<a href=\"https://colab.research.google.com/github/HChandeepa/Sri_Lanka_Food_Prices_Analysis/blob/Master/Sri_Lanka_Food_Prices_CW.ipynb\" target=\"_parent\"><img src=\"https://colab.research.google.com/assets/colab-badge.svg\" alt=\"Open In Colab\"/></a>"
      ]
    },
    {
      "cell_type": "code",
      "execution_count": 2,
      "metadata": {
        "id": "TY1jNnUpijMR"
      },
      "outputs": [],
      "source": [
        "# from google.colab import drive, files\n",
        "# drive.mount('/content/drive')"
      ]
    },
    {
      "cell_type": "markdown",
      "source": [
        "## Load the Dataset"
      ],
      "metadata": {
        "id": "AZS_1H6_mJpU"
      }
    },
    {
      "cell_type": "code",
      "source": [
        "import pandas as pd\n",
        "import numpy as np\n",
        "import matplotlib.pyplot as plt\n",
        "import seaborn as sns\n",
        "import time"
      ],
      "metadata": {
        "id": "aQfOpTQEkj05"
      },
      "execution_count": 3,
      "outputs": []
    },
    {
      "cell_type": "code",
      "source": [
        "# import dataset.\n",
        "df = pd.read_csv('/content/drive/MyDrive/Colab Notebooks/Datasets/wfp_food_prices_lka.csv')\n",
        "\n",
        "start_time = time.time()\n",
        "end_time = time.time()\n",
        "pandas_load_time = end_time - start_time\n",
        "print(f\"Pandas Load Time: {pandas_load_time:.4f} seconds\")"
      ],
      "metadata": {
        "id": "cdR6ibSQjG_c",
        "colab": {
          "base_uri": "https://localhost:8080/"
        },
        "outputId": "6acda317-6a71-4cdb-a355-a5473cb5d033"
      },
      "execution_count": 4,
      "outputs": [
        {
          "output_type": "stream",
          "name": "stdout",
          "text": [
            "Pandas Load Time: 0.0001 seconds\n"
          ]
        }
      ]
    },
    {
      "cell_type": "code",
      "source": [
        "# Display basic info\n",
        "df.info()"
      ],
      "metadata": {
        "id": "fjRUciP2ki8b",
        "colab": {
          "base_uri": "https://localhost:8080/"
        },
        "outputId": "d0f3f04c-02fb-4053-d4e9-069af18adc69"
      },
      "execution_count": 5,
      "outputs": [
        {
          "output_type": "stream",
          "name": "stdout",
          "text": [
            "<class 'pandas.core.frame.DataFrame'>\n",
            "RangeIndex: 18506 entries, 0 to 18505\n",
            "Data columns (total 14 columns):\n",
            " #   Column     Non-Null Count  Dtype  \n",
            "---  ------     --------------  -----  \n",
            " 0   date       18506 non-null  object \n",
            " 1   admin1     18377 non-null  object \n",
            " 2   admin2     18377 non-null  object \n",
            " 3   market     18506 non-null  object \n",
            " 4   latitude   18377 non-null  float64\n",
            " 5   longitude  18377 non-null  float64\n",
            " 6   category   18506 non-null  object \n",
            " 7   commodity  18506 non-null  object \n",
            " 8   unit       18506 non-null  object \n",
            " 9   priceflag  18506 non-null  object \n",
            " 10  pricetype  18506 non-null  object \n",
            " 11  currency   18506 non-null  object \n",
            " 12  price      18506 non-null  float64\n",
            " 13  usdprice   18506 non-null  float64\n",
            "dtypes: float64(4), object(10)\n",
            "memory usage: 2.0+ MB\n"
          ]
        }
      ]
    },
    {
      "cell_type": "code",
      "source": [
        "df.head()"
      ],
      "metadata": {
        "id": "eZFMavAckuOq",
        "colab": {
          "base_uri": "https://localhost:8080/",
          "height": 206
        },
        "outputId": "2b59c365-59ce-4667-a546-a05c7ca8b076"
      },
      "execution_count": 6,
      "outputs": [
        {
          "output_type": "execute_result",
          "data": {
            "text/plain": [
              "        date   admin1   admin2        market  latitude  longitude  \\\n",
              "0  1/15/2004  Western  Colombo  Colombo City  6.931944  79.847778   \n",
              "1  2/15/2004  Western  Colombo  Colombo City  6.931944  79.847778   \n",
              "2  2/15/2004  Western  Colombo  Colombo City  6.931944  79.847778   \n",
              "3  3/15/2004  Western  Colombo  Colombo City  6.931944  79.847778   \n",
              "4  4/15/2004  Western  Colombo  Colombo City  6.931944  79.847778   \n",
              "\n",
              "             category        commodity unit priceflag pricetype currency  \\\n",
              "0  cereals and tubers      Wheat flour   KG    actual    Retail      LKR   \n",
              "1  cereals and tubers  Rice (red nadu)   KG    actual    Retail      LKR   \n",
              "2  cereals and tubers      Wheat flour   KG    actual    Retail      LKR   \n",
              "3  cereals and tubers      Wheat flour   KG    actual    Retail      LKR   \n",
              "4  cereals and tubers  Rice (red nadu)   KG    actual    Retail      LKR   \n",
              "\n",
              "   price  usdprice  \n",
              "0  26.66    0.2725  \n",
              "1  33.62    0.3421  \n",
              "2  26.71    0.2718  \n",
              "3  26.63    0.2738  \n",
              "4  32.98    0.3376  "
            ],
            "text/html": [
              "\n",
              "  <div id=\"df-f2b31812-28b6-45ca-b5fb-8c6928fe1f3a\" class=\"colab-df-container\">\n",
              "    <div>\n",
              "<style scoped>\n",
              "    .dataframe tbody tr th:only-of-type {\n",
              "        vertical-align: middle;\n",
              "    }\n",
              "\n",
              "    .dataframe tbody tr th {\n",
              "        vertical-align: top;\n",
              "    }\n",
              "\n",
              "    .dataframe thead th {\n",
              "        text-align: right;\n",
              "    }\n",
              "</style>\n",
              "<table border=\"1\" class=\"dataframe\">\n",
              "  <thead>\n",
              "    <tr style=\"text-align: right;\">\n",
              "      <th></th>\n",
              "      <th>date</th>\n",
              "      <th>admin1</th>\n",
              "      <th>admin2</th>\n",
              "      <th>market</th>\n",
              "      <th>latitude</th>\n",
              "      <th>longitude</th>\n",
              "      <th>category</th>\n",
              "      <th>commodity</th>\n",
              "      <th>unit</th>\n",
              "      <th>priceflag</th>\n",
              "      <th>pricetype</th>\n",
              "      <th>currency</th>\n",
              "      <th>price</th>\n",
              "      <th>usdprice</th>\n",
              "    </tr>\n",
              "  </thead>\n",
              "  <tbody>\n",
              "    <tr>\n",
              "      <th>0</th>\n",
              "      <td>1/15/2004</td>\n",
              "      <td>Western</td>\n",
              "      <td>Colombo</td>\n",
              "      <td>Colombo City</td>\n",
              "      <td>6.931944</td>\n",
              "      <td>79.847778</td>\n",
              "      <td>cereals and tubers</td>\n",
              "      <td>Wheat flour</td>\n",
              "      <td>KG</td>\n",
              "      <td>actual</td>\n",
              "      <td>Retail</td>\n",
              "      <td>LKR</td>\n",
              "      <td>26.66</td>\n",
              "      <td>0.2725</td>\n",
              "    </tr>\n",
              "    <tr>\n",
              "      <th>1</th>\n",
              "      <td>2/15/2004</td>\n",
              "      <td>Western</td>\n",
              "      <td>Colombo</td>\n",
              "      <td>Colombo City</td>\n",
              "      <td>6.931944</td>\n",
              "      <td>79.847778</td>\n",
              "      <td>cereals and tubers</td>\n",
              "      <td>Rice (red nadu)</td>\n",
              "      <td>KG</td>\n",
              "      <td>actual</td>\n",
              "      <td>Retail</td>\n",
              "      <td>LKR</td>\n",
              "      <td>33.62</td>\n",
              "      <td>0.3421</td>\n",
              "    </tr>\n",
              "    <tr>\n",
              "      <th>2</th>\n",
              "      <td>2/15/2004</td>\n",
              "      <td>Western</td>\n",
              "      <td>Colombo</td>\n",
              "      <td>Colombo City</td>\n",
              "      <td>6.931944</td>\n",
              "      <td>79.847778</td>\n",
              "      <td>cereals and tubers</td>\n",
              "      <td>Wheat flour</td>\n",
              "      <td>KG</td>\n",
              "      <td>actual</td>\n",
              "      <td>Retail</td>\n",
              "      <td>LKR</td>\n",
              "      <td>26.71</td>\n",
              "      <td>0.2718</td>\n",
              "    </tr>\n",
              "    <tr>\n",
              "      <th>3</th>\n",
              "      <td>3/15/2004</td>\n",
              "      <td>Western</td>\n",
              "      <td>Colombo</td>\n",
              "      <td>Colombo City</td>\n",
              "      <td>6.931944</td>\n",
              "      <td>79.847778</td>\n",
              "      <td>cereals and tubers</td>\n",
              "      <td>Wheat flour</td>\n",
              "      <td>KG</td>\n",
              "      <td>actual</td>\n",
              "      <td>Retail</td>\n",
              "      <td>LKR</td>\n",
              "      <td>26.63</td>\n",
              "      <td>0.2738</td>\n",
              "    </tr>\n",
              "    <tr>\n",
              "      <th>4</th>\n",
              "      <td>4/15/2004</td>\n",
              "      <td>Western</td>\n",
              "      <td>Colombo</td>\n",
              "      <td>Colombo City</td>\n",
              "      <td>6.931944</td>\n",
              "      <td>79.847778</td>\n",
              "      <td>cereals and tubers</td>\n",
              "      <td>Rice (red nadu)</td>\n",
              "      <td>KG</td>\n",
              "      <td>actual</td>\n",
              "      <td>Retail</td>\n",
              "      <td>LKR</td>\n",
              "      <td>32.98</td>\n",
              "      <td>0.3376</td>\n",
              "    </tr>\n",
              "  </tbody>\n",
              "</table>\n",
              "</div>\n",
              "    <div class=\"colab-df-buttons\">\n",
              "\n",
              "  <div class=\"colab-df-container\">\n",
              "    <button class=\"colab-df-convert\" onclick=\"convertToInteractive('df-f2b31812-28b6-45ca-b5fb-8c6928fe1f3a')\"\n",
              "            title=\"Convert this dataframe to an interactive table.\"\n",
              "            style=\"display:none;\">\n",
              "\n",
              "  <svg xmlns=\"http://www.w3.org/2000/svg\" height=\"24px\" viewBox=\"0 -960 960 960\">\n",
              "    <path d=\"M120-120v-720h720v720H120Zm60-500h600v-160H180v160Zm220 220h160v-160H400v160Zm0 220h160v-160H400v160ZM180-400h160v-160H180v160Zm440 0h160v-160H620v160ZM180-180h160v-160H180v160Zm440 0h160v-160H620v160Z\"/>\n",
              "  </svg>\n",
              "    </button>\n",
              "\n",
              "  <style>\n",
              "    .colab-df-container {\n",
              "      display:flex;\n",
              "      gap: 12px;\n",
              "    }\n",
              "\n",
              "    .colab-df-convert {\n",
              "      background-color: #E8F0FE;\n",
              "      border: none;\n",
              "      border-radius: 50%;\n",
              "      cursor: pointer;\n",
              "      display: none;\n",
              "      fill: #1967D2;\n",
              "      height: 32px;\n",
              "      padding: 0 0 0 0;\n",
              "      width: 32px;\n",
              "    }\n",
              "\n",
              "    .colab-df-convert:hover {\n",
              "      background-color: #E2EBFA;\n",
              "      box-shadow: 0px 1px 2px rgba(60, 64, 67, 0.3), 0px 1px 3px 1px rgba(60, 64, 67, 0.15);\n",
              "      fill: #174EA6;\n",
              "    }\n",
              "\n",
              "    .colab-df-buttons div {\n",
              "      margin-bottom: 4px;\n",
              "    }\n",
              "\n",
              "    [theme=dark] .colab-df-convert {\n",
              "      background-color: #3B4455;\n",
              "      fill: #D2E3FC;\n",
              "    }\n",
              "\n",
              "    [theme=dark] .colab-df-convert:hover {\n",
              "      background-color: #434B5C;\n",
              "      box-shadow: 0px 1px 3px 1px rgba(0, 0, 0, 0.15);\n",
              "      filter: drop-shadow(0px 1px 2px rgba(0, 0, 0, 0.3));\n",
              "      fill: #FFFFFF;\n",
              "    }\n",
              "  </style>\n",
              "\n",
              "    <script>\n",
              "      const buttonEl =\n",
              "        document.querySelector('#df-f2b31812-28b6-45ca-b5fb-8c6928fe1f3a button.colab-df-convert');\n",
              "      buttonEl.style.display =\n",
              "        google.colab.kernel.accessAllowed ? 'block' : 'none';\n",
              "\n",
              "      async function convertToInteractive(key) {\n",
              "        const element = document.querySelector('#df-f2b31812-28b6-45ca-b5fb-8c6928fe1f3a');\n",
              "        const dataTable =\n",
              "          await google.colab.kernel.invokeFunction('convertToInteractive',\n",
              "                                                    [key], {});\n",
              "        if (!dataTable) return;\n",
              "\n",
              "        const docLinkHtml = 'Like what you see? Visit the ' +\n",
              "          '<a target=\"_blank\" href=https://colab.research.google.com/notebooks/data_table.ipynb>data table notebook</a>'\n",
              "          + ' to learn more about interactive tables.';\n",
              "        element.innerHTML = '';\n",
              "        dataTable['output_type'] = 'display_data';\n",
              "        await google.colab.output.renderOutput(dataTable, element);\n",
              "        const docLink = document.createElement('div');\n",
              "        docLink.innerHTML = docLinkHtml;\n",
              "        element.appendChild(docLink);\n",
              "      }\n",
              "    </script>\n",
              "  </div>\n",
              "\n",
              "\n",
              "<div id=\"df-1c17cb9a-473f-4696-b5a4-599eac038243\">\n",
              "  <button class=\"colab-df-quickchart\" onclick=\"quickchart('df-1c17cb9a-473f-4696-b5a4-599eac038243')\"\n",
              "            title=\"Suggest charts\"\n",
              "            style=\"display:none;\">\n",
              "\n",
              "<svg xmlns=\"http://www.w3.org/2000/svg\" height=\"24px\"viewBox=\"0 0 24 24\"\n",
              "     width=\"24px\">\n",
              "    <g>\n",
              "        <path d=\"M19 3H5c-1.1 0-2 .9-2 2v14c0 1.1.9 2 2 2h14c1.1 0 2-.9 2-2V5c0-1.1-.9-2-2-2zM9 17H7v-7h2v7zm4 0h-2V7h2v10zm4 0h-2v-4h2v4z\"/>\n",
              "    </g>\n",
              "</svg>\n",
              "  </button>\n",
              "\n",
              "<style>\n",
              "  .colab-df-quickchart {\n",
              "      --bg-color: #E8F0FE;\n",
              "      --fill-color: #1967D2;\n",
              "      --hover-bg-color: #E2EBFA;\n",
              "      --hover-fill-color: #174EA6;\n",
              "      --disabled-fill-color: #AAA;\n",
              "      --disabled-bg-color: #DDD;\n",
              "  }\n",
              "\n",
              "  [theme=dark] .colab-df-quickchart {\n",
              "      --bg-color: #3B4455;\n",
              "      --fill-color: #D2E3FC;\n",
              "      --hover-bg-color: #434B5C;\n",
              "      --hover-fill-color: #FFFFFF;\n",
              "      --disabled-bg-color: #3B4455;\n",
              "      --disabled-fill-color: #666;\n",
              "  }\n",
              "\n",
              "  .colab-df-quickchart {\n",
              "    background-color: var(--bg-color);\n",
              "    border: none;\n",
              "    border-radius: 50%;\n",
              "    cursor: pointer;\n",
              "    display: none;\n",
              "    fill: var(--fill-color);\n",
              "    height: 32px;\n",
              "    padding: 0;\n",
              "    width: 32px;\n",
              "  }\n",
              "\n",
              "  .colab-df-quickchart:hover {\n",
              "    background-color: var(--hover-bg-color);\n",
              "    box-shadow: 0 1px 2px rgba(60, 64, 67, 0.3), 0 1px 3px 1px rgba(60, 64, 67, 0.15);\n",
              "    fill: var(--button-hover-fill-color);\n",
              "  }\n",
              "\n",
              "  .colab-df-quickchart-complete:disabled,\n",
              "  .colab-df-quickchart-complete:disabled:hover {\n",
              "    background-color: var(--disabled-bg-color);\n",
              "    fill: var(--disabled-fill-color);\n",
              "    box-shadow: none;\n",
              "  }\n",
              "\n",
              "  .colab-df-spinner {\n",
              "    border: 2px solid var(--fill-color);\n",
              "    border-color: transparent;\n",
              "    border-bottom-color: var(--fill-color);\n",
              "    animation:\n",
              "      spin 1s steps(1) infinite;\n",
              "  }\n",
              "\n",
              "  @keyframes spin {\n",
              "    0% {\n",
              "      border-color: transparent;\n",
              "      border-bottom-color: var(--fill-color);\n",
              "      border-left-color: var(--fill-color);\n",
              "    }\n",
              "    20% {\n",
              "      border-color: transparent;\n",
              "      border-left-color: var(--fill-color);\n",
              "      border-top-color: var(--fill-color);\n",
              "    }\n",
              "    30% {\n",
              "      border-color: transparent;\n",
              "      border-left-color: var(--fill-color);\n",
              "      border-top-color: var(--fill-color);\n",
              "      border-right-color: var(--fill-color);\n",
              "    }\n",
              "    40% {\n",
              "      border-color: transparent;\n",
              "      border-right-color: var(--fill-color);\n",
              "      border-top-color: var(--fill-color);\n",
              "    }\n",
              "    60% {\n",
              "      border-color: transparent;\n",
              "      border-right-color: var(--fill-color);\n",
              "    }\n",
              "    80% {\n",
              "      border-color: transparent;\n",
              "      border-right-color: var(--fill-color);\n",
              "      border-bottom-color: var(--fill-color);\n",
              "    }\n",
              "    90% {\n",
              "      border-color: transparent;\n",
              "      border-bottom-color: var(--fill-color);\n",
              "    }\n",
              "  }\n",
              "</style>\n",
              "\n",
              "  <script>\n",
              "    async function quickchart(key) {\n",
              "      const quickchartButtonEl =\n",
              "        document.querySelector('#' + key + ' button');\n",
              "      quickchartButtonEl.disabled = true;  // To prevent multiple clicks.\n",
              "      quickchartButtonEl.classList.add('colab-df-spinner');\n",
              "      try {\n",
              "        const charts = await google.colab.kernel.invokeFunction(\n",
              "            'suggestCharts', [key], {});\n",
              "      } catch (error) {\n",
              "        console.error('Error during call to suggestCharts:', error);\n",
              "      }\n",
              "      quickchartButtonEl.classList.remove('colab-df-spinner');\n",
              "      quickchartButtonEl.classList.add('colab-df-quickchart-complete');\n",
              "    }\n",
              "    (() => {\n",
              "      let quickchartButtonEl =\n",
              "        document.querySelector('#df-1c17cb9a-473f-4696-b5a4-599eac038243 button');\n",
              "      quickchartButtonEl.style.display =\n",
              "        google.colab.kernel.accessAllowed ? 'block' : 'none';\n",
              "    })();\n",
              "  </script>\n",
              "</div>\n",
              "\n",
              "    </div>\n",
              "  </div>\n"
            ],
            "application/vnd.google.colaboratory.intrinsic+json": {
              "type": "dataframe",
              "variable_name": "df",
              "summary": "{\n  \"name\": \"df\",\n  \"rows\": 18506,\n  \"fields\": [\n    {\n      \"column\": \"date\",\n      \"properties\": {\n        \"dtype\": \"object\",\n        \"num_unique_values\": 250,\n        \"samples\": [\n          \"1/15/2016\",\n          \"7/15/2004\",\n          \"4/15/2012\"\n        ],\n        \"semantic_type\": \"\",\n        \"description\": \"\"\n      }\n    },\n    {\n      \"column\": \"admin1\",\n      \"properties\": {\n        \"dtype\": \"category\",\n        \"num_unique_values\": 9,\n        \"samples\": [\n          \"Southern\",\n          \"Eastern\",\n          \"North Western\"\n        ],\n        \"semantic_type\": \"\",\n        \"description\": \"\"\n      }\n    },\n    {\n      \"column\": \"admin2\",\n      \"properties\": {\n        \"dtype\": \"category\",\n        \"num_unique_values\": 25,\n        \"samples\": [\n          \"Vavuniya\",\n          \"Ratnapura\",\n          \"Colombo\"\n        ],\n        \"semantic_type\": \"\",\n        \"description\": \"\"\n      }\n    },\n    {\n      \"column\": \"market\",\n      \"properties\": {\n        \"dtype\": \"category\",\n        \"num_unique_values\": 44,\n        \"samples\": [\n          \"Mullativu\",\n          \"Kalutara\",\n          \"Kegalle\"\n        ],\n        \"semantic_type\": \"\",\n        \"description\": \"\"\n      }\n    },\n    {\n      \"column\": \"latitude\",\n      \"properties\": {\n        \"dtype\": \"number\",\n        \"std\": 0.9476828054910577,\n        \"min\": 5.952000141,\n        \"max\": 9.6567,\n        \"num_unique_values\": 43,\n        \"samples\": [\n          6.3334206,\n          7.253399849,\n          7.866079\n        ],\n        \"semantic_type\": \"\",\n        \"description\": \"\"\n      }\n    },\n    {\n      \"column\": \"longitude\",\n      \"properties\": {\n        \"dtype\": \"number\",\n        \"std\": 0.5332443602697711,\n        \"min\": 79.8317,\n        \"max\": 81.7,\n        \"num_unique_values\": 43,\n        \"samples\": [\n          80.8549543,\n          80.3368988,\n          80.651746\n        ],\n        \"semantic_type\": \"\",\n        \"description\": \"\"\n      }\n    },\n    {\n      \"column\": \"category\",\n      \"properties\": {\n        \"dtype\": \"category\",\n        \"num_unique_values\": 7,\n        \"samples\": [\n          \"cereals and tubers\",\n          \"miscellaneous food\",\n          \"meat, fish and eggs\"\n        ],\n        \"semantic_type\": \"\",\n        \"description\": \"\"\n      }\n    },\n    {\n      \"column\": \"commodity\",\n      \"properties\": {\n        \"dtype\": \"category\",\n        \"num_unique_values\": 42,\n        \"samples\": [\n          \"Onions (red, imported)\",\n          \"Eggplants\",\n          \"Potatoes (local)\"\n        ],\n        \"semantic_type\": \"\",\n        \"description\": \"\"\n      }\n    },\n    {\n      \"column\": \"unit\",\n      \"properties\": {\n        \"dtype\": \"category\",\n        \"num_unique_values\": 4,\n        \"samples\": [\n          \"L\",\n          \"750 ML\",\n          \"KG\"\n        ],\n        \"semantic_type\": \"\",\n        \"description\": \"\"\n      }\n    },\n    {\n      \"column\": \"priceflag\",\n      \"properties\": {\n        \"dtype\": \"category\",\n        \"num_unique_values\": 1,\n        \"samples\": [\n          \"actual\"\n        ],\n        \"semantic_type\": \"\",\n        \"description\": \"\"\n      }\n    },\n    {\n      \"column\": \"pricetype\",\n      \"properties\": {\n        \"dtype\": \"category\",\n        \"num_unique_values\": 2,\n        \"samples\": [\n          \"Wholesale\"\n        ],\n        \"semantic_type\": \"\",\n        \"description\": \"\"\n      }\n    },\n    {\n      \"column\": \"currency\",\n      \"properties\": {\n        \"dtype\": \"category\",\n        \"num_unique_values\": 1,\n        \"samples\": [\n          \"LKR\"\n        ],\n        \"semantic_type\": \"\",\n        \"description\": \"\"\n      }\n    },\n    {\n      \"column\": \"price\",\n      \"properties\": {\n        \"dtype\": \"number\",\n        \"std\": 606.3963656995243,\n        \"min\": 11.5,\n        \"max\": 3735.42,\n        \"num_unique_values\": 8969,\n        \"samples\": [\n          1362.5\n        ],\n        \"semantic_type\": \"\",\n        \"description\": \"\"\n      }\n    },\n    {\n      \"column\": \"usdprice\",\n      \"properties\": {\n        \"dtype\": \"number\",\n        \"std\": 1.9204141587156414,\n        \"min\": 0.0602,\n        \"max\": 11.9457,\n        \"num_unique_values\": 12669,\n        \"samples\": [\n          0.752\n        ],\n        \"semantic_type\": \"\",\n        \"description\": \"\"\n      }\n    }\n  ]\n}"
            }
          },
          "metadata": {},
          "execution_count": 6
        }
      ]
    },
    {
      "cell_type": "code",
      "source": [
        "df.describe()"
      ],
      "metadata": {
        "id": "Zed8ZAcRlCKm",
        "colab": {
          "base_uri": "https://localhost:8080/",
          "height": 300
        },
        "outputId": "f9ac04d7-1b4e-406d-ed20-7e12da0f432c"
      },
      "execution_count": 7,
      "outputs": [
        {
          "output_type": "execute_result",
          "data": {
            "text/plain": [
              "           latitude     longitude         price      usdprice\n",
              "count  18377.000000  18377.000000  18506.000000  18506.000000\n",
              "mean       7.481010     80.568017    581.991651      1.953836\n",
              "std        0.947683      0.533244    606.396366      1.920414\n",
              "min        5.952000     79.831700     11.500000      0.060200\n",
              "25%        6.906044     80.045803    150.000000      0.655825\n",
              "50%        7.253400     80.515701    320.120000      1.043450\n",
              "75%        8.038129     81.005890    883.207500      2.930650\n",
              "max        9.656700     81.700000   3735.420000     11.945700"
            ],
            "text/html": [
              "\n",
              "  <div id=\"df-f849ab85-6e0a-45f2-b03e-e8692afe4a76\" class=\"colab-df-container\">\n",
              "    <div>\n",
              "<style scoped>\n",
              "    .dataframe tbody tr th:only-of-type {\n",
              "        vertical-align: middle;\n",
              "    }\n",
              "\n",
              "    .dataframe tbody tr th {\n",
              "        vertical-align: top;\n",
              "    }\n",
              "\n",
              "    .dataframe thead th {\n",
              "        text-align: right;\n",
              "    }\n",
              "</style>\n",
              "<table border=\"1\" class=\"dataframe\">\n",
              "  <thead>\n",
              "    <tr style=\"text-align: right;\">\n",
              "      <th></th>\n",
              "      <th>latitude</th>\n",
              "      <th>longitude</th>\n",
              "      <th>price</th>\n",
              "      <th>usdprice</th>\n",
              "    </tr>\n",
              "  </thead>\n",
              "  <tbody>\n",
              "    <tr>\n",
              "      <th>count</th>\n",
              "      <td>18377.000000</td>\n",
              "      <td>18377.000000</td>\n",
              "      <td>18506.000000</td>\n",
              "      <td>18506.000000</td>\n",
              "    </tr>\n",
              "    <tr>\n",
              "      <th>mean</th>\n",
              "      <td>7.481010</td>\n",
              "      <td>80.568017</td>\n",
              "      <td>581.991651</td>\n",
              "      <td>1.953836</td>\n",
              "    </tr>\n",
              "    <tr>\n",
              "      <th>std</th>\n",
              "      <td>0.947683</td>\n",
              "      <td>0.533244</td>\n",
              "      <td>606.396366</td>\n",
              "      <td>1.920414</td>\n",
              "    </tr>\n",
              "    <tr>\n",
              "      <th>min</th>\n",
              "      <td>5.952000</td>\n",
              "      <td>79.831700</td>\n",
              "      <td>11.500000</td>\n",
              "      <td>0.060200</td>\n",
              "    </tr>\n",
              "    <tr>\n",
              "      <th>25%</th>\n",
              "      <td>6.906044</td>\n",
              "      <td>80.045803</td>\n",
              "      <td>150.000000</td>\n",
              "      <td>0.655825</td>\n",
              "    </tr>\n",
              "    <tr>\n",
              "      <th>50%</th>\n",
              "      <td>7.253400</td>\n",
              "      <td>80.515701</td>\n",
              "      <td>320.120000</td>\n",
              "      <td>1.043450</td>\n",
              "    </tr>\n",
              "    <tr>\n",
              "      <th>75%</th>\n",
              "      <td>8.038129</td>\n",
              "      <td>81.005890</td>\n",
              "      <td>883.207500</td>\n",
              "      <td>2.930650</td>\n",
              "    </tr>\n",
              "    <tr>\n",
              "      <th>max</th>\n",
              "      <td>9.656700</td>\n",
              "      <td>81.700000</td>\n",
              "      <td>3735.420000</td>\n",
              "      <td>11.945700</td>\n",
              "    </tr>\n",
              "  </tbody>\n",
              "</table>\n",
              "</div>\n",
              "    <div class=\"colab-df-buttons\">\n",
              "\n",
              "  <div class=\"colab-df-container\">\n",
              "    <button class=\"colab-df-convert\" onclick=\"convertToInteractive('df-f849ab85-6e0a-45f2-b03e-e8692afe4a76')\"\n",
              "            title=\"Convert this dataframe to an interactive table.\"\n",
              "            style=\"display:none;\">\n",
              "\n",
              "  <svg xmlns=\"http://www.w3.org/2000/svg\" height=\"24px\" viewBox=\"0 -960 960 960\">\n",
              "    <path d=\"M120-120v-720h720v720H120Zm60-500h600v-160H180v160Zm220 220h160v-160H400v160Zm0 220h160v-160H400v160ZM180-400h160v-160H180v160Zm440 0h160v-160H620v160ZM180-180h160v-160H180v160Zm440 0h160v-160H620v160Z\"/>\n",
              "  </svg>\n",
              "    </button>\n",
              "\n",
              "  <style>\n",
              "    .colab-df-container {\n",
              "      display:flex;\n",
              "      gap: 12px;\n",
              "    }\n",
              "\n",
              "    .colab-df-convert {\n",
              "      background-color: #E8F0FE;\n",
              "      border: none;\n",
              "      border-radius: 50%;\n",
              "      cursor: pointer;\n",
              "      display: none;\n",
              "      fill: #1967D2;\n",
              "      height: 32px;\n",
              "      padding: 0 0 0 0;\n",
              "      width: 32px;\n",
              "    }\n",
              "\n",
              "    .colab-df-convert:hover {\n",
              "      background-color: #E2EBFA;\n",
              "      box-shadow: 0px 1px 2px rgba(60, 64, 67, 0.3), 0px 1px 3px 1px rgba(60, 64, 67, 0.15);\n",
              "      fill: #174EA6;\n",
              "    }\n",
              "\n",
              "    .colab-df-buttons div {\n",
              "      margin-bottom: 4px;\n",
              "    }\n",
              "\n",
              "    [theme=dark] .colab-df-convert {\n",
              "      background-color: #3B4455;\n",
              "      fill: #D2E3FC;\n",
              "    }\n",
              "\n",
              "    [theme=dark] .colab-df-convert:hover {\n",
              "      background-color: #434B5C;\n",
              "      box-shadow: 0px 1px 3px 1px rgba(0, 0, 0, 0.15);\n",
              "      filter: drop-shadow(0px 1px 2px rgba(0, 0, 0, 0.3));\n",
              "      fill: #FFFFFF;\n",
              "    }\n",
              "  </style>\n",
              "\n",
              "    <script>\n",
              "      const buttonEl =\n",
              "        document.querySelector('#df-f849ab85-6e0a-45f2-b03e-e8692afe4a76 button.colab-df-convert');\n",
              "      buttonEl.style.display =\n",
              "        google.colab.kernel.accessAllowed ? 'block' : 'none';\n",
              "\n",
              "      async function convertToInteractive(key) {\n",
              "        const element = document.querySelector('#df-f849ab85-6e0a-45f2-b03e-e8692afe4a76');\n",
              "        const dataTable =\n",
              "          await google.colab.kernel.invokeFunction('convertToInteractive',\n",
              "                                                    [key], {});\n",
              "        if (!dataTable) return;\n",
              "\n",
              "        const docLinkHtml = 'Like what you see? Visit the ' +\n",
              "          '<a target=\"_blank\" href=https://colab.research.google.com/notebooks/data_table.ipynb>data table notebook</a>'\n",
              "          + ' to learn more about interactive tables.';\n",
              "        element.innerHTML = '';\n",
              "        dataTable['output_type'] = 'display_data';\n",
              "        await google.colab.output.renderOutput(dataTable, element);\n",
              "        const docLink = document.createElement('div');\n",
              "        docLink.innerHTML = docLinkHtml;\n",
              "        element.appendChild(docLink);\n",
              "      }\n",
              "    </script>\n",
              "  </div>\n",
              "\n",
              "\n",
              "<div id=\"df-e44c58cb-2c5f-4e1b-bd0f-a0854ceb1170\">\n",
              "  <button class=\"colab-df-quickchart\" onclick=\"quickchart('df-e44c58cb-2c5f-4e1b-bd0f-a0854ceb1170')\"\n",
              "            title=\"Suggest charts\"\n",
              "            style=\"display:none;\">\n",
              "\n",
              "<svg xmlns=\"http://www.w3.org/2000/svg\" height=\"24px\"viewBox=\"0 0 24 24\"\n",
              "     width=\"24px\">\n",
              "    <g>\n",
              "        <path d=\"M19 3H5c-1.1 0-2 .9-2 2v14c0 1.1.9 2 2 2h14c1.1 0 2-.9 2-2V5c0-1.1-.9-2-2-2zM9 17H7v-7h2v7zm4 0h-2V7h2v10zm4 0h-2v-4h2v4z\"/>\n",
              "    </g>\n",
              "</svg>\n",
              "  </button>\n",
              "\n",
              "<style>\n",
              "  .colab-df-quickchart {\n",
              "      --bg-color: #E8F0FE;\n",
              "      --fill-color: #1967D2;\n",
              "      --hover-bg-color: #E2EBFA;\n",
              "      --hover-fill-color: #174EA6;\n",
              "      --disabled-fill-color: #AAA;\n",
              "      --disabled-bg-color: #DDD;\n",
              "  }\n",
              "\n",
              "  [theme=dark] .colab-df-quickchart {\n",
              "      --bg-color: #3B4455;\n",
              "      --fill-color: #D2E3FC;\n",
              "      --hover-bg-color: #434B5C;\n",
              "      --hover-fill-color: #FFFFFF;\n",
              "      --disabled-bg-color: #3B4455;\n",
              "      --disabled-fill-color: #666;\n",
              "  }\n",
              "\n",
              "  .colab-df-quickchart {\n",
              "    background-color: var(--bg-color);\n",
              "    border: none;\n",
              "    border-radius: 50%;\n",
              "    cursor: pointer;\n",
              "    display: none;\n",
              "    fill: var(--fill-color);\n",
              "    height: 32px;\n",
              "    padding: 0;\n",
              "    width: 32px;\n",
              "  }\n",
              "\n",
              "  .colab-df-quickchart:hover {\n",
              "    background-color: var(--hover-bg-color);\n",
              "    box-shadow: 0 1px 2px rgba(60, 64, 67, 0.3), 0 1px 3px 1px rgba(60, 64, 67, 0.15);\n",
              "    fill: var(--button-hover-fill-color);\n",
              "  }\n",
              "\n",
              "  .colab-df-quickchart-complete:disabled,\n",
              "  .colab-df-quickchart-complete:disabled:hover {\n",
              "    background-color: var(--disabled-bg-color);\n",
              "    fill: var(--disabled-fill-color);\n",
              "    box-shadow: none;\n",
              "  }\n",
              "\n",
              "  .colab-df-spinner {\n",
              "    border: 2px solid var(--fill-color);\n",
              "    border-color: transparent;\n",
              "    border-bottom-color: var(--fill-color);\n",
              "    animation:\n",
              "      spin 1s steps(1) infinite;\n",
              "  }\n",
              "\n",
              "  @keyframes spin {\n",
              "    0% {\n",
              "      border-color: transparent;\n",
              "      border-bottom-color: var(--fill-color);\n",
              "      border-left-color: var(--fill-color);\n",
              "    }\n",
              "    20% {\n",
              "      border-color: transparent;\n",
              "      border-left-color: var(--fill-color);\n",
              "      border-top-color: var(--fill-color);\n",
              "    }\n",
              "    30% {\n",
              "      border-color: transparent;\n",
              "      border-left-color: var(--fill-color);\n",
              "      border-top-color: var(--fill-color);\n",
              "      border-right-color: var(--fill-color);\n",
              "    }\n",
              "    40% {\n",
              "      border-color: transparent;\n",
              "      border-right-color: var(--fill-color);\n",
              "      border-top-color: var(--fill-color);\n",
              "    }\n",
              "    60% {\n",
              "      border-color: transparent;\n",
              "      border-right-color: var(--fill-color);\n",
              "    }\n",
              "    80% {\n",
              "      border-color: transparent;\n",
              "      border-right-color: var(--fill-color);\n",
              "      border-bottom-color: var(--fill-color);\n",
              "    }\n",
              "    90% {\n",
              "      border-color: transparent;\n",
              "      border-bottom-color: var(--fill-color);\n",
              "    }\n",
              "  }\n",
              "</style>\n",
              "\n",
              "  <script>\n",
              "    async function quickchart(key) {\n",
              "      const quickchartButtonEl =\n",
              "        document.querySelector('#' + key + ' button');\n",
              "      quickchartButtonEl.disabled = true;  // To prevent multiple clicks.\n",
              "      quickchartButtonEl.classList.add('colab-df-spinner');\n",
              "      try {\n",
              "        const charts = await google.colab.kernel.invokeFunction(\n",
              "            'suggestCharts', [key], {});\n",
              "      } catch (error) {\n",
              "        console.error('Error during call to suggestCharts:', error);\n",
              "      }\n",
              "      quickchartButtonEl.classList.remove('colab-df-spinner');\n",
              "      quickchartButtonEl.classList.add('colab-df-quickchart-complete');\n",
              "    }\n",
              "    (() => {\n",
              "      let quickchartButtonEl =\n",
              "        document.querySelector('#df-e44c58cb-2c5f-4e1b-bd0f-a0854ceb1170 button');\n",
              "      quickchartButtonEl.style.display =\n",
              "        google.colab.kernel.accessAllowed ? 'block' : 'none';\n",
              "    })();\n",
              "  </script>\n",
              "</div>\n",
              "\n",
              "    </div>\n",
              "  </div>\n"
            ],
            "application/vnd.google.colaboratory.intrinsic+json": {
              "type": "dataframe",
              "summary": "{\n  \"name\": \"df\",\n  \"rows\": 8,\n  \"fields\": [\n    {\n      \"column\": \"latitude\",\n      \"properties\": {\n        \"dtype\": \"number\",\n        \"std\": 6494.915936269286,\n        \"min\": 0.9476828054910577,\n        \"max\": 18377.0,\n        \"num_unique_values\": 8,\n        \"samples\": [\n          7.481010072925397,\n          7.253399849,\n          18377.0\n        ],\n        \"semantic_type\": \"\",\n        \"description\": \"\"\n      }\n    },\n    {\n      \"column\": \"longitude\",\n      \"properties\": {\n        \"dtype\": \"number\",\n        \"std\": 6472.855526699927,\n        \"min\": 0.5332443602697711,\n        \"max\": 18377.0,\n        \"num_unique_values\": 8,\n        \"samples\": [\n          80.5680168415231,\n          80.51570129,\n          18377.0\n        ],\n        \"semantic_type\": \"\",\n        \"description\": \"\"\n      }\n    },\n    {\n      \"column\": \"price\",\n      \"properties\": {\n        \"dtype\": \"number\",\n        \"std\": 6337.983570285724,\n        \"min\": 11.5,\n        \"max\": 18506.0,\n        \"num_unique_values\": 8,\n        \"samples\": [\n          581.9916513563169,\n          320.12,\n          18506.0\n        ],\n        \"semantic_type\": \"\",\n        \"description\": \"\"\n      }\n    },\n    {\n      \"column\": \"usdprice\",\n      \"properties\": {\n        \"dtype\": \"number\",\n        \"std\": 6541.824225364663,\n        \"min\": 0.0602,\n        \"max\": 18506.0,\n        \"num_unique_values\": 8,\n        \"samples\": [\n          1.953836399005728,\n          1.04345,\n          18506.0\n        ],\n        \"semantic_type\": \"\",\n        \"description\": \"\"\n      }\n    }\n  ]\n}"
            }
          },
          "metadata": {},
          "execution_count": 7
        }
      ]
    },
    {
      "cell_type": "code",
      "source": [
        "selected_columns = ['admin1','admin2','market','category','commodity','unit','pricetype']\n",
        "for columns in selected_columns:\n",
        "  unique_values = df[columns].unique()\n",
        "  print(f\"Unique values in {columns}: {unique_values}\\n\\n\")"
      ],
      "metadata": {
        "id": "UB-OyY_LnmpQ",
        "colab": {
          "base_uri": "https://localhost:8080/"
        },
        "outputId": "3644568e-736e-467d-d861-d63279933155"
      },
      "execution_count": 8,
      "outputs": [
        {
          "output_type": "stream",
          "name": "stdout",
          "text": [
            "Unique values in admin1: ['Western' 'Eastern' 'Northern' nan 'Central' 'North Central'\n",
            " 'North Western' 'Sabaragamuwa' 'Southern' 'Uva']\n",
            "\n",
            "\n",
            "Unique values in admin2: ['Colombo' 'Ampara' 'Batticaloa' 'Trincomalee' 'Jaffna' 'Kilinochchi'\n",
            " 'Mannar' 'Mullattivu' 'Vavuniya' nan 'Kandy' 'Matale' 'Nuwara Eliya'\n",
            " 'Anuradhapura' 'Polonnaruwa' 'Kurunegala' 'Puttalam' 'Ratnapura' 'Galle'\n",
            " 'Hambantota' 'Matara' 'Badulla' 'Moneragala' 'Gampaha' 'Kalutara'\n",
            " 'Kegalle']\n",
            "\n",
            "\n",
            "Unique values in market: ['Colombo City' 'Ampara' 'Batticaloa' 'Trincomalee' 'Jaffna' 'Kilinochchi'\n",
            " 'Mannar' 'Mulaitivu' 'Vavuniya' 'National Average' 'Kandy' 'Matale'\n",
            " 'Nuwara Eliya' 'Anuradhapura' 'Polonnaruwa' 'Kurunegala' 'Puttalam'\n",
            " 'Rathnapura' 'Galle' 'Hambantota' 'Matara' 'Badulla' 'Monaragala'\n",
            " 'Gampaha' 'Kalutara' 'Kegalle' 'Economic Centre-Dambulla'\n",
            " 'Economic Centre-Pettah' 'Economic Centre-Maradagahamula'\n",
            " 'Fish market-Negombo' 'Fish market-Peliyagoda'\n",
            " 'Economic Centre - Peliyagoda' 'Hanguranketha' 'Dehiattakandiya'\n",
            " 'Galenbindunuwewa' 'Thambuttegama' 'Nikaweratiya' 'Mullativu'\n",
            " 'Embilipitiya' 'Tissamaharama' 'Bandarawela' 'Keppetipola (DEC}'\n",
            " 'Dammbagalla' 'Meegoda(DEC)']\n",
            "\n",
            "\n",
            "Unique values in category: ['cereals and tubers' 'miscellaneous food' 'non-food' 'pulses and nuts'\n",
            " 'vegetables and fruits' 'meat, fish and eggs' 'oil and fats']\n",
            "\n",
            "\n",
            "Unique values in commodity: ['Wheat flour' 'Rice (red nadu)' 'Rice (white)' 'Rice (long grain)'\n",
            " 'Sugar' 'Fuel (diesel)' 'Fuel (petrol-gasoline)' 'Potatoes (imported)'\n",
            " 'Potatoes (local)' 'Chili (red, dry raw)' 'Beans' 'Carrots' 'Coconut'\n",
            " 'Eggplants' 'Onions (red, local)' 'Pumpkin' 'Snake gourd'\n",
            " 'Rice (medium grain)' 'Rice (red)' 'Fish (dry, katta)'\n",
            " 'Fish (dry, sprats)' 'Lentils' 'Bananas' 'Cabbage' 'Onions (imported)'\n",
            " 'Onions (red, imported)' 'Pineapples' 'Fish (goldstripe sardinella)'\n",
            " 'Fish (jack)' 'Fish (sail fish)' 'Fish (skipjack tuna)'\n",
            " 'Fish (trenched sardinella)' 'Fish (yellowfin tuna)' 'Tomatoes' 'Eggs'\n",
            " 'Papaya' 'Oil (coconut)' 'Onions (red)' 'Meat (chicken, fresh)'\n",
            " 'Cowpeas (whole, average)' 'Meat (chicken, broiler)' 'Beans (mung)']\n",
            "\n",
            "\n",
            "Unique values in unit: ['KG' 'L' 'Unit' '750 ML']\n",
            "\n",
            "\n",
            "Unique values in pricetype: ['Retail' 'Wholesale']\n",
            "\n",
            "\n"
          ]
        }
      ]
    },
    {
      "cell_type": "code",
      "source": [
        "df.rename(columns={'admin1': 'province', 'admin2': 'district'}, inplace=True)"
      ],
      "metadata": {
        "id": "siC9vZ49lpis"
      },
      "execution_count": 9,
      "outputs": []
    },
    {
      "cell_type": "code",
      "source": [
        "df.head()"
      ],
      "metadata": {
        "id": "HvyvkJk9l0Au",
        "colab": {
          "base_uri": "https://localhost:8080/",
          "height": 206
        },
        "outputId": "1ec97a1e-2407-4ca7-eb78-9f67fd603b34"
      },
      "execution_count": 10,
      "outputs": [
        {
          "output_type": "execute_result",
          "data": {
            "text/plain": [
              "        date province district        market  latitude  longitude  \\\n",
              "0  1/15/2004  Western  Colombo  Colombo City  6.931944  79.847778   \n",
              "1  2/15/2004  Western  Colombo  Colombo City  6.931944  79.847778   \n",
              "2  2/15/2004  Western  Colombo  Colombo City  6.931944  79.847778   \n",
              "3  3/15/2004  Western  Colombo  Colombo City  6.931944  79.847778   \n",
              "4  4/15/2004  Western  Colombo  Colombo City  6.931944  79.847778   \n",
              "\n",
              "             category        commodity unit priceflag pricetype currency  \\\n",
              "0  cereals and tubers      Wheat flour   KG    actual    Retail      LKR   \n",
              "1  cereals and tubers  Rice (red nadu)   KG    actual    Retail      LKR   \n",
              "2  cereals and tubers      Wheat flour   KG    actual    Retail      LKR   \n",
              "3  cereals and tubers      Wheat flour   KG    actual    Retail      LKR   \n",
              "4  cereals and tubers  Rice (red nadu)   KG    actual    Retail      LKR   \n",
              "\n",
              "   price  usdprice  \n",
              "0  26.66    0.2725  \n",
              "1  33.62    0.3421  \n",
              "2  26.71    0.2718  \n",
              "3  26.63    0.2738  \n",
              "4  32.98    0.3376  "
            ],
            "text/html": [
              "\n",
              "  <div id=\"df-cb13b465-870f-4282-a592-5c251be39115\" class=\"colab-df-container\">\n",
              "    <div>\n",
              "<style scoped>\n",
              "    .dataframe tbody tr th:only-of-type {\n",
              "        vertical-align: middle;\n",
              "    }\n",
              "\n",
              "    .dataframe tbody tr th {\n",
              "        vertical-align: top;\n",
              "    }\n",
              "\n",
              "    .dataframe thead th {\n",
              "        text-align: right;\n",
              "    }\n",
              "</style>\n",
              "<table border=\"1\" class=\"dataframe\">\n",
              "  <thead>\n",
              "    <tr style=\"text-align: right;\">\n",
              "      <th></th>\n",
              "      <th>date</th>\n",
              "      <th>province</th>\n",
              "      <th>district</th>\n",
              "      <th>market</th>\n",
              "      <th>latitude</th>\n",
              "      <th>longitude</th>\n",
              "      <th>category</th>\n",
              "      <th>commodity</th>\n",
              "      <th>unit</th>\n",
              "      <th>priceflag</th>\n",
              "      <th>pricetype</th>\n",
              "      <th>currency</th>\n",
              "      <th>price</th>\n",
              "      <th>usdprice</th>\n",
              "    </tr>\n",
              "  </thead>\n",
              "  <tbody>\n",
              "    <tr>\n",
              "      <th>0</th>\n",
              "      <td>1/15/2004</td>\n",
              "      <td>Western</td>\n",
              "      <td>Colombo</td>\n",
              "      <td>Colombo City</td>\n",
              "      <td>6.931944</td>\n",
              "      <td>79.847778</td>\n",
              "      <td>cereals and tubers</td>\n",
              "      <td>Wheat flour</td>\n",
              "      <td>KG</td>\n",
              "      <td>actual</td>\n",
              "      <td>Retail</td>\n",
              "      <td>LKR</td>\n",
              "      <td>26.66</td>\n",
              "      <td>0.2725</td>\n",
              "    </tr>\n",
              "    <tr>\n",
              "      <th>1</th>\n",
              "      <td>2/15/2004</td>\n",
              "      <td>Western</td>\n",
              "      <td>Colombo</td>\n",
              "      <td>Colombo City</td>\n",
              "      <td>6.931944</td>\n",
              "      <td>79.847778</td>\n",
              "      <td>cereals and tubers</td>\n",
              "      <td>Rice (red nadu)</td>\n",
              "      <td>KG</td>\n",
              "      <td>actual</td>\n",
              "      <td>Retail</td>\n",
              "      <td>LKR</td>\n",
              "      <td>33.62</td>\n",
              "      <td>0.3421</td>\n",
              "    </tr>\n",
              "    <tr>\n",
              "      <th>2</th>\n",
              "      <td>2/15/2004</td>\n",
              "      <td>Western</td>\n",
              "      <td>Colombo</td>\n",
              "      <td>Colombo City</td>\n",
              "      <td>6.931944</td>\n",
              "      <td>79.847778</td>\n",
              "      <td>cereals and tubers</td>\n",
              "      <td>Wheat flour</td>\n",
              "      <td>KG</td>\n",
              "      <td>actual</td>\n",
              "      <td>Retail</td>\n",
              "      <td>LKR</td>\n",
              "      <td>26.71</td>\n",
              "      <td>0.2718</td>\n",
              "    </tr>\n",
              "    <tr>\n",
              "      <th>3</th>\n",
              "      <td>3/15/2004</td>\n",
              "      <td>Western</td>\n",
              "      <td>Colombo</td>\n",
              "      <td>Colombo City</td>\n",
              "      <td>6.931944</td>\n",
              "      <td>79.847778</td>\n",
              "      <td>cereals and tubers</td>\n",
              "      <td>Wheat flour</td>\n",
              "      <td>KG</td>\n",
              "      <td>actual</td>\n",
              "      <td>Retail</td>\n",
              "      <td>LKR</td>\n",
              "      <td>26.63</td>\n",
              "      <td>0.2738</td>\n",
              "    </tr>\n",
              "    <tr>\n",
              "      <th>4</th>\n",
              "      <td>4/15/2004</td>\n",
              "      <td>Western</td>\n",
              "      <td>Colombo</td>\n",
              "      <td>Colombo City</td>\n",
              "      <td>6.931944</td>\n",
              "      <td>79.847778</td>\n",
              "      <td>cereals and tubers</td>\n",
              "      <td>Rice (red nadu)</td>\n",
              "      <td>KG</td>\n",
              "      <td>actual</td>\n",
              "      <td>Retail</td>\n",
              "      <td>LKR</td>\n",
              "      <td>32.98</td>\n",
              "      <td>0.3376</td>\n",
              "    </tr>\n",
              "  </tbody>\n",
              "</table>\n",
              "</div>\n",
              "    <div class=\"colab-df-buttons\">\n",
              "\n",
              "  <div class=\"colab-df-container\">\n",
              "    <button class=\"colab-df-convert\" onclick=\"convertToInteractive('df-cb13b465-870f-4282-a592-5c251be39115')\"\n",
              "            title=\"Convert this dataframe to an interactive table.\"\n",
              "            style=\"display:none;\">\n",
              "\n",
              "  <svg xmlns=\"http://www.w3.org/2000/svg\" height=\"24px\" viewBox=\"0 -960 960 960\">\n",
              "    <path d=\"M120-120v-720h720v720H120Zm60-500h600v-160H180v160Zm220 220h160v-160H400v160Zm0 220h160v-160H400v160ZM180-400h160v-160H180v160Zm440 0h160v-160H620v160ZM180-180h160v-160H180v160Zm440 0h160v-160H620v160Z\"/>\n",
              "  </svg>\n",
              "    </button>\n",
              "\n",
              "  <style>\n",
              "    .colab-df-container {\n",
              "      display:flex;\n",
              "      gap: 12px;\n",
              "    }\n",
              "\n",
              "    .colab-df-convert {\n",
              "      background-color: #E8F0FE;\n",
              "      border: none;\n",
              "      border-radius: 50%;\n",
              "      cursor: pointer;\n",
              "      display: none;\n",
              "      fill: #1967D2;\n",
              "      height: 32px;\n",
              "      padding: 0 0 0 0;\n",
              "      width: 32px;\n",
              "    }\n",
              "\n",
              "    .colab-df-convert:hover {\n",
              "      background-color: #E2EBFA;\n",
              "      box-shadow: 0px 1px 2px rgba(60, 64, 67, 0.3), 0px 1px 3px 1px rgba(60, 64, 67, 0.15);\n",
              "      fill: #174EA6;\n",
              "    }\n",
              "\n",
              "    .colab-df-buttons div {\n",
              "      margin-bottom: 4px;\n",
              "    }\n",
              "\n",
              "    [theme=dark] .colab-df-convert {\n",
              "      background-color: #3B4455;\n",
              "      fill: #D2E3FC;\n",
              "    }\n",
              "\n",
              "    [theme=dark] .colab-df-convert:hover {\n",
              "      background-color: #434B5C;\n",
              "      box-shadow: 0px 1px 3px 1px rgba(0, 0, 0, 0.15);\n",
              "      filter: drop-shadow(0px 1px 2px rgba(0, 0, 0, 0.3));\n",
              "      fill: #FFFFFF;\n",
              "    }\n",
              "  </style>\n",
              "\n",
              "    <script>\n",
              "      const buttonEl =\n",
              "        document.querySelector('#df-cb13b465-870f-4282-a592-5c251be39115 button.colab-df-convert');\n",
              "      buttonEl.style.display =\n",
              "        google.colab.kernel.accessAllowed ? 'block' : 'none';\n",
              "\n",
              "      async function convertToInteractive(key) {\n",
              "        const element = document.querySelector('#df-cb13b465-870f-4282-a592-5c251be39115');\n",
              "        const dataTable =\n",
              "          await google.colab.kernel.invokeFunction('convertToInteractive',\n",
              "                                                    [key], {});\n",
              "        if (!dataTable) return;\n",
              "\n",
              "        const docLinkHtml = 'Like what you see? Visit the ' +\n",
              "          '<a target=\"_blank\" href=https://colab.research.google.com/notebooks/data_table.ipynb>data table notebook</a>'\n",
              "          + ' to learn more about interactive tables.';\n",
              "        element.innerHTML = '';\n",
              "        dataTable['output_type'] = 'display_data';\n",
              "        await google.colab.output.renderOutput(dataTable, element);\n",
              "        const docLink = document.createElement('div');\n",
              "        docLink.innerHTML = docLinkHtml;\n",
              "        element.appendChild(docLink);\n",
              "      }\n",
              "    </script>\n",
              "  </div>\n",
              "\n",
              "\n",
              "<div id=\"df-110b5475-3320-4ad2-8c2e-a116b5b8c1c5\">\n",
              "  <button class=\"colab-df-quickchart\" onclick=\"quickchart('df-110b5475-3320-4ad2-8c2e-a116b5b8c1c5')\"\n",
              "            title=\"Suggest charts\"\n",
              "            style=\"display:none;\">\n",
              "\n",
              "<svg xmlns=\"http://www.w3.org/2000/svg\" height=\"24px\"viewBox=\"0 0 24 24\"\n",
              "     width=\"24px\">\n",
              "    <g>\n",
              "        <path d=\"M19 3H5c-1.1 0-2 .9-2 2v14c0 1.1.9 2 2 2h14c1.1 0 2-.9 2-2V5c0-1.1-.9-2-2-2zM9 17H7v-7h2v7zm4 0h-2V7h2v10zm4 0h-2v-4h2v4z\"/>\n",
              "    </g>\n",
              "</svg>\n",
              "  </button>\n",
              "\n",
              "<style>\n",
              "  .colab-df-quickchart {\n",
              "      --bg-color: #E8F0FE;\n",
              "      --fill-color: #1967D2;\n",
              "      --hover-bg-color: #E2EBFA;\n",
              "      --hover-fill-color: #174EA6;\n",
              "      --disabled-fill-color: #AAA;\n",
              "      --disabled-bg-color: #DDD;\n",
              "  }\n",
              "\n",
              "  [theme=dark] .colab-df-quickchart {\n",
              "      --bg-color: #3B4455;\n",
              "      --fill-color: #D2E3FC;\n",
              "      --hover-bg-color: #434B5C;\n",
              "      --hover-fill-color: #FFFFFF;\n",
              "      --disabled-bg-color: #3B4455;\n",
              "      --disabled-fill-color: #666;\n",
              "  }\n",
              "\n",
              "  .colab-df-quickchart {\n",
              "    background-color: var(--bg-color);\n",
              "    border: none;\n",
              "    border-radius: 50%;\n",
              "    cursor: pointer;\n",
              "    display: none;\n",
              "    fill: var(--fill-color);\n",
              "    height: 32px;\n",
              "    padding: 0;\n",
              "    width: 32px;\n",
              "  }\n",
              "\n",
              "  .colab-df-quickchart:hover {\n",
              "    background-color: var(--hover-bg-color);\n",
              "    box-shadow: 0 1px 2px rgba(60, 64, 67, 0.3), 0 1px 3px 1px rgba(60, 64, 67, 0.15);\n",
              "    fill: var(--button-hover-fill-color);\n",
              "  }\n",
              "\n",
              "  .colab-df-quickchart-complete:disabled,\n",
              "  .colab-df-quickchart-complete:disabled:hover {\n",
              "    background-color: var(--disabled-bg-color);\n",
              "    fill: var(--disabled-fill-color);\n",
              "    box-shadow: none;\n",
              "  }\n",
              "\n",
              "  .colab-df-spinner {\n",
              "    border: 2px solid var(--fill-color);\n",
              "    border-color: transparent;\n",
              "    border-bottom-color: var(--fill-color);\n",
              "    animation:\n",
              "      spin 1s steps(1) infinite;\n",
              "  }\n",
              "\n",
              "  @keyframes spin {\n",
              "    0% {\n",
              "      border-color: transparent;\n",
              "      border-bottom-color: var(--fill-color);\n",
              "      border-left-color: var(--fill-color);\n",
              "    }\n",
              "    20% {\n",
              "      border-color: transparent;\n",
              "      border-left-color: var(--fill-color);\n",
              "      border-top-color: var(--fill-color);\n",
              "    }\n",
              "    30% {\n",
              "      border-color: transparent;\n",
              "      border-left-color: var(--fill-color);\n",
              "      border-top-color: var(--fill-color);\n",
              "      border-right-color: var(--fill-color);\n",
              "    }\n",
              "    40% {\n",
              "      border-color: transparent;\n",
              "      border-right-color: var(--fill-color);\n",
              "      border-top-color: var(--fill-color);\n",
              "    }\n",
              "    60% {\n",
              "      border-color: transparent;\n",
              "      border-right-color: var(--fill-color);\n",
              "    }\n",
              "    80% {\n",
              "      border-color: transparent;\n",
              "      border-right-color: var(--fill-color);\n",
              "      border-bottom-color: var(--fill-color);\n",
              "    }\n",
              "    90% {\n",
              "      border-color: transparent;\n",
              "      border-bottom-color: var(--fill-color);\n",
              "    }\n",
              "  }\n",
              "</style>\n",
              "\n",
              "  <script>\n",
              "    async function quickchart(key) {\n",
              "      const quickchartButtonEl =\n",
              "        document.querySelector('#' + key + ' button');\n",
              "      quickchartButtonEl.disabled = true;  // To prevent multiple clicks.\n",
              "      quickchartButtonEl.classList.add('colab-df-spinner');\n",
              "      try {\n",
              "        const charts = await google.colab.kernel.invokeFunction(\n",
              "            'suggestCharts', [key], {});\n",
              "      } catch (error) {\n",
              "        console.error('Error during call to suggestCharts:', error);\n",
              "      }\n",
              "      quickchartButtonEl.classList.remove('colab-df-spinner');\n",
              "      quickchartButtonEl.classList.add('colab-df-quickchart-complete');\n",
              "    }\n",
              "    (() => {\n",
              "      let quickchartButtonEl =\n",
              "        document.querySelector('#df-110b5475-3320-4ad2-8c2e-a116b5b8c1c5 button');\n",
              "      quickchartButtonEl.style.display =\n",
              "        google.colab.kernel.accessAllowed ? 'block' : 'none';\n",
              "    })();\n",
              "  </script>\n",
              "</div>\n",
              "\n",
              "    </div>\n",
              "  </div>\n"
            ],
            "application/vnd.google.colaboratory.intrinsic+json": {
              "type": "dataframe",
              "variable_name": "df",
              "summary": "{\n  \"name\": \"df\",\n  \"rows\": 18506,\n  \"fields\": [\n    {\n      \"column\": \"date\",\n      \"properties\": {\n        \"dtype\": \"object\",\n        \"num_unique_values\": 250,\n        \"samples\": [\n          \"1/15/2016\",\n          \"7/15/2004\",\n          \"4/15/2012\"\n        ],\n        \"semantic_type\": \"\",\n        \"description\": \"\"\n      }\n    },\n    {\n      \"column\": \"province\",\n      \"properties\": {\n        \"dtype\": \"category\",\n        \"num_unique_values\": 9,\n        \"samples\": [\n          \"Southern\",\n          \"Eastern\",\n          \"North Western\"\n        ],\n        \"semantic_type\": \"\",\n        \"description\": \"\"\n      }\n    },\n    {\n      \"column\": \"district\",\n      \"properties\": {\n        \"dtype\": \"category\",\n        \"num_unique_values\": 25,\n        \"samples\": [\n          \"Vavuniya\",\n          \"Ratnapura\",\n          \"Colombo\"\n        ],\n        \"semantic_type\": \"\",\n        \"description\": \"\"\n      }\n    },\n    {\n      \"column\": \"market\",\n      \"properties\": {\n        \"dtype\": \"category\",\n        \"num_unique_values\": 44,\n        \"samples\": [\n          \"Mullativu\",\n          \"Kalutara\",\n          \"Kegalle\"\n        ],\n        \"semantic_type\": \"\",\n        \"description\": \"\"\n      }\n    },\n    {\n      \"column\": \"latitude\",\n      \"properties\": {\n        \"dtype\": \"number\",\n        \"std\": 0.9476828054910577,\n        \"min\": 5.952000141,\n        \"max\": 9.6567,\n        \"num_unique_values\": 43,\n        \"samples\": [\n          6.3334206,\n          7.253399849,\n          7.866079\n        ],\n        \"semantic_type\": \"\",\n        \"description\": \"\"\n      }\n    },\n    {\n      \"column\": \"longitude\",\n      \"properties\": {\n        \"dtype\": \"number\",\n        \"std\": 0.5332443602697711,\n        \"min\": 79.8317,\n        \"max\": 81.7,\n        \"num_unique_values\": 43,\n        \"samples\": [\n          80.8549543,\n          80.3368988,\n          80.651746\n        ],\n        \"semantic_type\": \"\",\n        \"description\": \"\"\n      }\n    },\n    {\n      \"column\": \"category\",\n      \"properties\": {\n        \"dtype\": \"category\",\n        \"num_unique_values\": 7,\n        \"samples\": [\n          \"cereals and tubers\",\n          \"miscellaneous food\",\n          \"meat, fish and eggs\"\n        ],\n        \"semantic_type\": \"\",\n        \"description\": \"\"\n      }\n    },\n    {\n      \"column\": \"commodity\",\n      \"properties\": {\n        \"dtype\": \"category\",\n        \"num_unique_values\": 42,\n        \"samples\": [\n          \"Onions (red, imported)\",\n          \"Eggplants\",\n          \"Potatoes (local)\"\n        ],\n        \"semantic_type\": \"\",\n        \"description\": \"\"\n      }\n    },\n    {\n      \"column\": \"unit\",\n      \"properties\": {\n        \"dtype\": \"category\",\n        \"num_unique_values\": 4,\n        \"samples\": [\n          \"L\",\n          \"750 ML\",\n          \"KG\"\n        ],\n        \"semantic_type\": \"\",\n        \"description\": \"\"\n      }\n    },\n    {\n      \"column\": \"priceflag\",\n      \"properties\": {\n        \"dtype\": \"category\",\n        \"num_unique_values\": 1,\n        \"samples\": [\n          \"actual\"\n        ],\n        \"semantic_type\": \"\",\n        \"description\": \"\"\n      }\n    },\n    {\n      \"column\": \"pricetype\",\n      \"properties\": {\n        \"dtype\": \"category\",\n        \"num_unique_values\": 2,\n        \"samples\": [\n          \"Wholesale\"\n        ],\n        \"semantic_type\": \"\",\n        \"description\": \"\"\n      }\n    },\n    {\n      \"column\": \"currency\",\n      \"properties\": {\n        \"dtype\": \"category\",\n        \"num_unique_values\": 1,\n        \"samples\": [\n          \"LKR\"\n        ],\n        \"semantic_type\": \"\",\n        \"description\": \"\"\n      }\n    },\n    {\n      \"column\": \"price\",\n      \"properties\": {\n        \"dtype\": \"number\",\n        \"std\": 606.3963656995243,\n        \"min\": 11.5,\n        \"max\": 3735.42,\n        \"num_unique_values\": 8969,\n        \"samples\": [\n          1362.5\n        ],\n        \"semantic_type\": \"\",\n        \"description\": \"\"\n      }\n    },\n    {\n      \"column\": \"usdprice\",\n      \"properties\": {\n        \"dtype\": \"number\",\n        \"std\": 1.9204141587156414,\n        \"min\": 0.0602,\n        \"max\": 11.9457,\n        \"num_unique_values\": 12669,\n        \"samples\": [\n          0.752\n        ],\n        \"semantic_type\": \"\",\n        \"description\": \"\"\n      }\n    }\n  ]\n}"
            }
          },
          "metadata": {},
          "execution_count": 10
        }
      ]
    },
    {
      "cell_type": "code",
      "source": [
        "df.dtypes"
      ],
      "metadata": {
        "id": "-lQGSmoSmap6",
        "colab": {
          "base_uri": "https://localhost:8080/",
          "height": 523
        },
        "outputId": "eb2b8c12-16d2-47a1-be5e-1fffab3aa2e8"
      },
      "execution_count": 11,
      "outputs": [
        {
          "output_type": "execute_result",
          "data": {
            "text/plain": [
              "date          object\n",
              "province      object\n",
              "district      object\n",
              "market        object\n",
              "latitude     float64\n",
              "longitude    float64\n",
              "category      object\n",
              "commodity     object\n",
              "unit          object\n",
              "priceflag     object\n",
              "pricetype     object\n",
              "currency      object\n",
              "price        float64\n",
              "usdprice     float64\n",
              "dtype: object"
            ],
            "text/html": [
              "<div>\n",
              "<style scoped>\n",
              "    .dataframe tbody tr th:only-of-type {\n",
              "        vertical-align: middle;\n",
              "    }\n",
              "\n",
              "    .dataframe tbody tr th {\n",
              "        vertical-align: top;\n",
              "    }\n",
              "\n",
              "    .dataframe thead th {\n",
              "        text-align: right;\n",
              "    }\n",
              "</style>\n",
              "<table border=\"1\" class=\"dataframe\">\n",
              "  <thead>\n",
              "    <tr style=\"text-align: right;\">\n",
              "      <th></th>\n",
              "      <th>0</th>\n",
              "    </tr>\n",
              "  </thead>\n",
              "  <tbody>\n",
              "    <tr>\n",
              "      <th>date</th>\n",
              "      <td>object</td>\n",
              "    </tr>\n",
              "    <tr>\n",
              "      <th>province</th>\n",
              "      <td>object</td>\n",
              "    </tr>\n",
              "    <tr>\n",
              "      <th>district</th>\n",
              "      <td>object</td>\n",
              "    </tr>\n",
              "    <tr>\n",
              "      <th>market</th>\n",
              "      <td>object</td>\n",
              "    </tr>\n",
              "    <tr>\n",
              "      <th>latitude</th>\n",
              "      <td>float64</td>\n",
              "    </tr>\n",
              "    <tr>\n",
              "      <th>longitude</th>\n",
              "      <td>float64</td>\n",
              "    </tr>\n",
              "    <tr>\n",
              "      <th>category</th>\n",
              "      <td>object</td>\n",
              "    </tr>\n",
              "    <tr>\n",
              "      <th>commodity</th>\n",
              "      <td>object</td>\n",
              "    </tr>\n",
              "    <tr>\n",
              "      <th>unit</th>\n",
              "      <td>object</td>\n",
              "    </tr>\n",
              "    <tr>\n",
              "      <th>priceflag</th>\n",
              "      <td>object</td>\n",
              "    </tr>\n",
              "    <tr>\n",
              "      <th>pricetype</th>\n",
              "      <td>object</td>\n",
              "    </tr>\n",
              "    <tr>\n",
              "      <th>currency</th>\n",
              "      <td>object</td>\n",
              "    </tr>\n",
              "    <tr>\n",
              "      <th>price</th>\n",
              "      <td>float64</td>\n",
              "    </tr>\n",
              "    <tr>\n",
              "      <th>usdprice</th>\n",
              "      <td>float64</td>\n",
              "    </tr>\n",
              "  </tbody>\n",
              "</table>\n",
              "</div><br><label><b>dtype:</b> object</label>"
            ]
          },
          "metadata": {},
          "execution_count": 11
        }
      ]
    },
    {
      "cell_type": "code",
      "source": [
        "df[['price']].min()"
      ],
      "metadata": {
        "colab": {
          "base_uri": "https://localhost:8080/",
          "height": 115
        },
        "id": "mtYf2VnbmSza",
        "outputId": "0d8d9057-8baf-4326-b489-72e13cce63d7"
      },
      "execution_count": 12,
      "outputs": [
        {
          "output_type": "execute_result",
          "data": {
            "text/plain": [
              "price    11.5\n",
              "dtype: float64"
            ],
            "text/html": [
              "<div>\n",
              "<style scoped>\n",
              "    .dataframe tbody tr th:only-of-type {\n",
              "        vertical-align: middle;\n",
              "    }\n",
              "\n",
              "    .dataframe tbody tr th {\n",
              "        vertical-align: top;\n",
              "    }\n",
              "\n",
              "    .dataframe thead th {\n",
              "        text-align: right;\n",
              "    }\n",
              "</style>\n",
              "<table border=\"1\" class=\"dataframe\">\n",
              "  <thead>\n",
              "    <tr style=\"text-align: right;\">\n",
              "      <th></th>\n",
              "      <th>0</th>\n",
              "    </tr>\n",
              "  </thead>\n",
              "  <tbody>\n",
              "    <tr>\n",
              "      <th>price</th>\n",
              "      <td>11.5</td>\n",
              "    </tr>\n",
              "  </tbody>\n",
              "</table>\n",
              "</div><br><label><b>dtype:</b> float64</label>"
            ]
          },
          "metadata": {},
          "execution_count": 12
        }
      ]
    },
    {
      "cell_type": "code",
      "source": [
        "df[['price']].max()"
      ],
      "metadata": {
        "colab": {
          "base_uri": "https://localhost:8080/",
          "height": 115
        },
        "id": "q_pKIOqomYuV",
        "outputId": "c38abc69-a5d8-496f-d464-3015d364dd9f"
      },
      "execution_count": 13,
      "outputs": [
        {
          "output_type": "execute_result",
          "data": {
            "text/plain": [
              "price    3735.42\n",
              "dtype: float64"
            ],
            "text/html": [
              "<div>\n",
              "<style scoped>\n",
              "    .dataframe tbody tr th:only-of-type {\n",
              "        vertical-align: middle;\n",
              "    }\n",
              "\n",
              "    .dataframe tbody tr th {\n",
              "        vertical-align: top;\n",
              "    }\n",
              "\n",
              "    .dataframe thead th {\n",
              "        text-align: right;\n",
              "    }\n",
              "</style>\n",
              "<table border=\"1\" class=\"dataframe\">\n",
              "  <thead>\n",
              "    <tr style=\"text-align: right;\">\n",
              "      <th></th>\n",
              "      <th>0</th>\n",
              "    </tr>\n",
              "  </thead>\n",
              "  <tbody>\n",
              "    <tr>\n",
              "      <th>price</th>\n",
              "      <td>3735.42</td>\n",
              "    </tr>\n",
              "  </tbody>\n",
              "</table>\n",
              "</div><br><label><b>dtype:</b> float64</label>"
            ]
          },
          "metadata": {},
          "execution_count": 13
        }
      ]
    },
    {
      "cell_type": "code",
      "source": [
        "df[['usdprice']].min()"
      ],
      "metadata": {
        "colab": {
          "base_uri": "https://localhost:8080/",
          "height": 115
        },
        "id": "c9isbTatmhpc",
        "outputId": "38b1c20c-bd07-4e9a-832f-39b5d897f5bd"
      },
      "execution_count": 14,
      "outputs": [
        {
          "output_type": "execute_result",
          "data": {
            "text/plain": [
              "usdprice    0.0602\n",
              "dtype: float64"
            ],
            "text/html": [
              "<div>\n",
              "<style scoped>\n",
              "    .dataframe tbody tr th:only-of-type {\n",
              "        vertical-align: middle;\n",
              "    }\n",
              "\n",
              "    .dataframe tbody tr th {\n",
              "        vertical-align: top;\n",
              "    }\n",
              "\n",
              "    .dataframe thead th {\n",
              "        text-align: right;\n",
              "    }\n",
              "</style>\n",
              "<table border=\"1\" class=\"dataframe\">\n",
              "  <thead>\n",
              "    <tr style=\"text-align: right;\">\n",
              "      <th></th>\n",
              "      <th>0</th>\n",
              "    </tr>\n",
              "  </thead>\n",
              "  <tbody>\n",
              "    <tr>\n",
              "      <th>usdprice</th>\n",
              "      <td>0.0602</td>\n",
              "    </tr>\n",
              "  </tbody>\n",
              "</table>\n",
              "</div><br><label><b>dtype:</b> float64</label>"
            ]
          },
          "metadata": {},
          "execution_count": 14
        }
      ]
    },
    {
      "cell_type": "code",
      "source": [
        "df[['usdprice']].max()"
      ],
      "metadata": {
        "colab": {
          "base_uri": "https://localhost:8080/",
          "height": 115
        },
        "id": "F0YNe5bjmmH4",
        "outputId": "e9b07c3f-ed30-4946-9674-b4d24c7d647e"
      },
      "execution_count": 15,
      "outputs": [
        {
          "output_type": "execute_result",
          "data": {
            "text/plain": [
              "usdprice    11.9457\n",
              "dtype: float64"
            ],
            "text/html": [
              "<div>\n",
              "<style scoped>\n",
              "    .dataframe tbody tr th:only-of-type {\n",
              "        vertical-align: middle;\n",
              "    }\n",
              "\n",
              "    .dataframe tbody tr th {\n",
              "        vertical-align: top;\n",
              "    }\n",
              "\n",
              "    .dataframe thead th {\n",
              "        text-align: right;\n",
              "    }\n",
              "</style>\n",
              "<table border=\"1\" class=\"dataframe\">\n",
              "  <thead>\n",
              "    <tr style=\"text-align: right;\">\n",
              "      <th></th>\n",
              "      <th>0</th>\n",
              "    </tr>\n",
              "  </thead>\n",
              "  <tbody>\n",
              "    <tr>\n",
              "      <th>usdprice</th>\n",
              "      <td>11.9457</td>\n",
              "    </tr>\n",
              "  </tbody>\n",
              "</table>\n",
              "</div><br><label><b>dtype:</b> float64</label>"
            ]
          },
          "metadata": {},
          "execution_count": 15
        }
      ]
    },
    {
      "cell_type": "markdown",
      "source": [
        "## Data Cleaning"
      ],
      "metadata": {
        "id": "9oEo8EsYwCJc"
      }
    },
    {
      "cell_type": "code",
      "source": [
        "# Check for missing values\n",
        "print(df.isnull().sum())"
      ],
      "metadata": {
        "id": "F7Kw99pKrC4J",
        "colab": {
          "base_uri": "https://localhost:8080/"
        },
        "outputId": "e43fab3c-16c0-40db-bf2d-411f447b649b"
      },
      "execution_count": 16,
      "outputs": [
        {
          "output_type": "stream",
          "name": "stdout",
          "text": [
            "date           0\n",
            "province     129\n",
            "district     129\n",
            "market         0\n",
            "latitude     129\n",
            "longitude    129\n",
            "category       0\n",
            "commodity      0\n",
            "unit           0\n",
            "priceflag      0\n",
            "pricetype      0\n",
            "currency       0\n",
            "price          0\n",
            "usdprice       0\n",
            "dtype: int64\n"
          ]
        }
      ]
    },
    {
      "cell_type": "markdown",
      "source": [
        "129 rows out of 18,506 → 0.7% missing data, which is very low."
      ],
      "metadata": {
        "id": "bFhgydHJe377"
      }
    },
    {
      "cell_type": "code",
      "source": [
        "df.dropna(subset=['province', 'district', 'latitude', 'longitude'], inplace=True)\n",
        "\n",
        "start_time = time.time()\n",
        "end_time = time.time()\n",
        "pandas_load_time = end_time - start_time\n",
        "print(f\"Pandas Clean Time: {pandas_load_time:.4f} seconds\")"
      ],
      "metadata": {
        "id": "mRrcF8fdxN-m",
        "colab": {
          "base_uri": "https://localhost:8080/"
        },
        "outputId": "dfce2829-a0dd-4db9-e829-38ec06047099"
      },
      "execution_count": 17,
      "outputs": [
        {
          "output_type": "stream",
          "name": "stdout",
          "text": [
            "Pandas Clean Time: 0.0000 seconds\n"
          ]
        }
      ]
    },
    {
      "cell_type": "code",
      "source": [
        "print(df.isnull().sum())"
      ],
      "metadata": {
        "id": "LgNil-ihxbTv",
        "colab": {
          "base_uri": "https://localhost:8080/"
        },
        "outputId": "ded8cf48-1d38-45b0-fd43-f78148a4e6c6"
      },
      "execution_count": 18,
      "outputs": [
        {
          "output_type": "stream",
          "name": "stdout",
          "text": [
            "date         0\n",
            "province     0\n",
            "district     0\n",
            "market       0\n",
            "latitude     0\n",
            "longitude    0\n",
            "category     0\n",
            "commodity    0\n",
            "unit         0\n",
            "priceflag    0\n",
            "pricetype    0\n",
            "currency     0\n",
            "price        0\n",
            "usdprice     0\n",
            "dtype: int64\n"
          ]
        }
      ]
    },
    {
      "cell_type": "markdown",
      "source": [
        "### Date Formatting"
      ],
      "metadata": {
        "id": "VRkitoPAfEcs"
      }
    },
    {
      "cell_type": "code",
      "source": [
        "# Convert 'date' column to datetime format\n",
        "df['date'] = pd.to_datetime(df['date'], format='%m/%d/%Y', errors='coerce')\n",
        "\n",
        "\n",
        "start_time = time.time()\n",
        "end_time = time.time()\n",
        "pandas_load_time = end_time - start_time\n",
        "print(f\"Pandas Convert 'date' column to datetime format Time: {pandas_load_time:.4f} seconds\")"
      ],
      "metadata": {
        "id": "03hgLusEy23t",
        "colab": {
          "base_uri": "https://localhost:8080/"
        },
        "outputId": "cf7c3fd4-52b3-4f80-8df9-79b45490a5cf"
      },
      "execution_count": 19,
      "outputs": [
        {
          "output_type": "stream",
          "name": "stdout",
          "text": [
            "Pandas Convert 'date' column to datetime format Time: 0.0000 seconds\n"
          ]
        }
      ]
    },
    {
      "cell_type": "markdown",
      "source": [
        "### Handling Duplicates"
      ],
      "metadata": {
        "id": "4qYhOINefLDY"
      }
    },
    {
      "cell_type": "code",
      "source": [
        "# Drop duplicates\n",
        "df.drop_duplicates(inplace=True)"
      ],
      "metadata": {
        "id": "Dj7XSGzAzA9Y"
      },
      "execution_count": 20,
      "outputs": []
    },
    {
      "cell_type": "code",
      "source": [
        "selected_columns = ['province','district','market','category','commodity','unit','pricetype']\n",
        "for columns in selected_columns:\n",
        "  unique_values = df[columns].unique()\n",
        "  print(f\"Unique values in {columns}: {unique_values}\\n\\n\")"
      ],
      "metadata": {
        "colab": {
          "base_uri": "https://localhost:8080/"
        },
        "id": "LnOu3o3lfjM-",
        "outputId": "d5bf3ebe-a78c-4a1c-cb1b-eb96a0dd722e"
      },
      "execution_count": 21,
      "outputs": [
        {
          "output_type": "stream",
          "name": "stdout",
          "text": [
            "Unique values in province: ['Western' 'Eastern' 'Northern' 'Central' 'North Central' 'North Western'\n",
            " 'Sabaragamuwa' 'Southern' 'Uva']\n",
            "\n",
            "\n",
            "Unique values in district: ['Colombo' 'Ampara' 'Batticaloa' 'Trincomalee' 'Jaffna' 'Kilinochchi'\n",
            " 'Mannar' 'Mullattivu' 'Vavuniya' 'Kandy' 'Matale' 'Nuwara Eliya'\n",
            " 'Anuradhapura' 'Polonnaruwa' 'Kurunegala' 'Puttalam' 'Ratnapura' 'Galle'\n",
            " 'Hambantota' 'Matara' 'Badulla' 'Moneragala' 'Gampaha' 'Kalutara'\n",
            " 'Kegalle']\n",
            "\n",
            "\n",
            "Unique values in market: ['Colombo City' 'Ampara' 'Batticaloa' 'Trincomalee' 'Jaffna' 'Kilinochchi'\n",
            " 'Mannar' 'Mulaitivu' 'Vavuniya' 'Kandy' 'Matale' 'Nuwara Eliya'\n",
            " 'Anuradhapura' 'Polonnaruwa' 'Kurunegala' 'Puttalam' 'Rathnapura' 'Galle'\n",
            " 'Hambantota' 'Matara' 'Badulla' 'Monaragala' 'Gampaha' 'Kalutara'\n",
            " 'Kegalle' 'Economic Centre-Dambulla' 'Economic Centre-Pettah'\n",
            " 'Economic Centre-Maradagahamula' 'Fish market-Negombo'\n",
            " 'Fish market-Peliyagoda' 'Economic Centre - Peliyagoda' 'Hanguranketha'\n",
            " 'Dehiattakandiya' 'Galenbindunuwewa' 'Thambuttegama' 'Nikaweratiya'\n",
            " 'Mullativu' 'Embilipitiya' 'Tissamaharama' 'Bandarawela'\n",
            " 'Keppetipola (DEC}' 'Dammbagalla' 'Meegoda(DEC)']\n",
            "\n",
            "\n",
            "Unique values in category: ['cereals and tubers' 'miscellaneous food' 'non-food' 'pulses and nuts'\n",
            " 'vegetables and fruits' 'meat, fish and eggs' 'oil and fats']\n",
            "\n",
            "\n",
            "Unique values in commodity: ['Wheat flour' 'Rice (red nadu)' 'Rice (white)' 'Sugar'\n",
            " 'Rice (long grain)' 'Fuel (diesel)' 'Fuel (petrol-gasoline)'\n",
            " 'Potatoes (imported)' 'Potatoes (local)' 'Chili (red, dry raw)' 'Beans'\n",
            " 'Carrots' 'Coconut' 'Eggplants' 'Onions (red, local)' 'Pumpkin'\n",
            " 'Snake gourd' 'Rice (medium grain)' 'Rice (red)' 'Fish (dry, katta)'\n",
            " 'Fish (dry, sprats)' 'Lentils' 'Bananas' 'Cabbage' 'Onions (imported)'\n",
            " 'Onions (red, imported)' 'Pineapples' 'Fish (goldstripe sardinella)'\n",
            " 'Fish (jack)' 'Fish (sail fish)' 'Fish (skipjack tuna)'\n",
            " 'Fish (trenched sardinella)' 'Fish (yellowfin tuna)' 'Tomatoes' 'Eggs'\n",
            " 'Papaya' 'Oil (coconut)' 'Onions (red)' 'Meat (chicken, fresh)'\n",
            " 'Cowpeas (whole, average)' 'Meat (chicken, broiler)' 'Beans (mung)']\n",
            "\n",
            "\n",
            "Unique values in unit: ['KG' 'L' 'Unit' '750 ML']\n",
            "\n",
            "\n",
            "Unique values in pricetype: ['Retail' 'Wholesale']\n",
            "\n",
            "\n"
          ]
        }
      ]
    },
    {
      "cell_type": "markdown",
      "source": [
        "## Standardization (Z-score Normalization)"
      ],
      "metadata": {
        "id": "pPZhtXFzi9ed"
      }
    },
    {
      "cell_type": "code",
      "source": [
        "from sklearn.preprocessing import StandardScaler\n",
        "\n",
        "# Initialize the scaler\n",
        "scaler = StandardScaler()\n",
        "\n",
        "# Fit and transform the 'price' and 'usdprice' columns\n",
        "df[['price', 'usdprice']] = scaler.fit_transform(df[['price', 'usdprice']])\n",
        "\n",
        "# Check the scaled data\n",
        "print(df[['price', 'usdprice']].head())"
      ],
      "metadata": {
        "colab": {
          "base_uri": "https://localhost:8080/"
        },
        "id": "WEzYhyv9jN1Q",
        "outputId": "fe0535e0-6333-4c1b-d3e9-51b6d3dad299"
      },
      "execution_count": 24,
      "outputs": [
        {
          "output_type": "stream",
          "name": "stdout",
          "text": [
            "      price  usdprice\n",
            "0 -0.920421 -0.878425\n",
            "1 -0.908956 -0.842253\n",
            "2 -0.920338 -0.878789\n",
            "3 -0.920470 -0.877750\n",
            "4 -0.910011 -0.844592\n"
          ]
        }
      ]
    },
    {
      "cell_type": "code",
      "source": [
        "import matplotlib.pyplot as plt\n",
        "import seaborn as sns\n",
        "\n",
        "# KDE Plot for price and usdprice\n",
        "plt.figure(figsize=(12, 5))\n",
        "\n",
        "plt.subplot(1, 2, 1)\n",
        "sns.kdeplot(df['price'], shade=True, color=\"blue\")\n",
        "plt.title(\"Price Distribution (KDE Plot)\")\n",
        "\n",
        "plt.subplot(1, 2, 2)\n",
        "sns.kdeplot(df['usdprice'], shade=True, color=\"red\")\n",
        "plt.title(\"USD Price Distribution (KDE Plot)\")\n",
        "\n",
        "plt.show()"
      ],
      "metadata": {
        "colab": {
          "base_uri": "https://localhost:8080/",
          "height": 695
        },
        "id": "TVSPNQY-iOag",
        "outputId": "76571277-3cd5-4f6f-da43-37f5fe41f08d"
      },
      "execution_count": 23,
      "outputs": [
        {
          "output_type": "stream",
          "name": "stderr",
          "text": [
            "<ipython-input-23-e2978d08cb93>:8: FutureWarning: \n",
            "\n",
            "`shade` is now deprecated in favor of `fill`; setting `fill=True`.\n",
            "This will become an error in seaborn v0.14.0; please update your code.\n",
            "\n",
            "  sns.kdeplot(df['price'], shade=True, color=\"blue\")\n",
            "<ipython-input-23-e2978d08cb93>:12: FutureWarning: \n",
            "\n",
            "`shade` is now deprecated in favor of `fill`; setting `fill=True`.\n",
            "This will become an error in seaborn v0.14.0; please update your code.\n",
            "\n",
            "  sns.kdeplot(df['usdprice'], shade=True, color=\"red\")\n"
          ]
        },
        {
          "output_type": "display_data",
          "data": {
            "text/plain": [
              "<Figure size 1200x500 with 2 Axes>"
            ],
            "image/png": "[encoded data removed]"
          },
          "metadata": {}
        }
      ]
    },
    {
      "cell_type": "markdown",
      "source": [
        "## Outlier Detection & Removal"
      ],
      "metadata": {
        "id": "785LJyI0jM8a"
      }
    },
    {
      "cell_type": "code",
      "source": [
        "# Boxplot before outlier removal\n",
        "plt.figure(figsize=(12, 5))\n",
        "plt.subplot(1, 2, 1)\n",
        "sns.boxplot(data=df[['price']])\n",
        "plt.title(\"Before Outlier Removal\")\n",
        "plt.show()"
      ],
      "metadata": {
        "id": "WJul2Uypki3u"
      },
      "execution_count": null,
      "outputs": []
    },
    {
      "cell_type": "code",
      "source": [
        "# Boxplot before outlier removal\n",
        "plt.figure(figsize=(12, 5))\n",
        "plt.subplot(1, 2, 1)\n",
        "sns.boxplot(data=df[['usdprice']])\n",
        "plt.title(\"Before Outlier Removal\")\n",
        "plt.show()"
      ],
      "metadata": {
        "id": "-YJ0MpqHk_SQ"
      },
      "execution_count": null,
      "outputs": []
    },
    {
      "cell_type": "code",
      "source": [
        "import numpy as np\n",
        "import pandas as pd\n",
        "\n",
        "# Assuming your dataframe is named df\n",
        "\n",
        "# Calculate Z-scores for price and usdprice columns\n",
        "df['price'] = (df['price'] - df['price'].mean()) / df['price'].std()\n",
        "df['usdprice'] = (df['usdprice'] - df['usdprice'].mean()) / df['usdprice'].std()\n",
        "\n",
        "# Set a threshold for Z-scores (commonly 3 or -3)\n",
        "threshold = 3\n",
        "\n",
        "# Filter out the outliers where Z-score is greater than threshold (or less than -threshold)\n",
        "df = df[(df['price'].abs() <= threshold) & (df['usdprice'].abs() <= threshold)]\n",
        "\n",
        "# # Save the cleaned dataset\n",
        "# df_cleaned.to_csv(\"cleaned_wfp_food_prices_lka_zscore.csv\", index=False)\n",
        "\n",
        "# Print number of rows before and after outlier removal\n",
        "print(f\"Rows before: {df.shape[0]}, Rows after outlier removal: {df.shape[0]}\")"
      ],
      "metadata": {
        "id": "XpUC_bjbsGpC"
      },
      "execution_count": null,
      "outputs": []
    },
    {
      "cell_type": "code",
      "source": [
        "# Filter out rows with negative values for price and usdprice\n",
        "df = df[(df['price'] >= 0) & (df['usdprice'] >= 0)]\n",
        "\n",
        "# Outlier detection using IQR method\n",
        "Q1 = df[['price', 'usdprice']].quantile(0.25)\n",
        "Q3 = df[['price', 'usdprice']].quantile(0.75)\n",
        "IQR = Q3 - Q1\n",
        "\n",
        "# Define outlier thresholds\n",
        "lower_bound = Q1 - 2.5 * IQR\n",
        "upper_bound = Q3 + 2.5 * IQR\n",
        "\n",
        "# Ensure lower bound for price and usdprice is not negative\n",
        "lower_bound['price'] = max(0, lower_bound['price'])  # Ensure price lower bound is not negative\n",
        "lower_bound['usdprice'] = max(0, lower_bound['usdprice'])  # Ensure usdprice lower bound is not negative\n",
        "\n",
        "# Filter out outliers\n",
        "df = df[~((df['price'] < lower_bound['price']) | (df['price'] > upper_bound['price']) |\n",
        "          (df['usdprice'] < lower_bound['usdprice']) | (df['usdprice'] > upper_bound['usdprice']))]\n",
        "\n",
        "# # Save the cleaned dataset\n",
        "# df.to_csv(\"cleaned_wfp_food_prices_lka.csv\", index=False)\n",
        "\n",
        "# Print number of rows before and after outlier removal\n",
        "print(f\"Rows before: {df.shape[0]}, Rows after outlier removal: {df.shape[0]}\")\n",
        "\n",
        "# Print IQR Lower and Upper Bounds\n",
        "print(\"IQR Lower Bound:\\n\", lower_bound)\n",
        "print(\"IQR Upper Bound:\\n\", upper_bound)\n"
      ],
      "metadata": {
        "id": "Vh65cVDqjQpo"
      },
      "execution_count": null,
      "outputs": []
    },
    {
      "cell_type": "code",
      "source": [
        "# Boxplot after outlier removal\n",
        "plt.figure(figsize=(12, 5))\n",
        "plt.subplot(1, 2, 1)\n",
        "sns.boxplot(data=df[['price']])\n",
        "plt.title(\"After Outlier Removal\")\n",
        "plt.show()"
      ],
      "metadata": {
        "id": "QMOFSH9fku9b"
      },
      "execution_count": null,
      "outputs": []
    },
    {
      "cell_type": "code",
      "source": [
        "# Boxplot after outlier removal\n",
        "plt.figure(figsize=(12, 5))\n",
        "plt.subplot(1, 2, 1)\n",
        "sns.boxplot(data=df[['usdprice']])\n",
        "plt.title(\"After Outlier Removal\")\n",
        "plt.show()"
      ],
      "metadata": {
        "id": "O3y12tDllJpS"
      },
      "execution_count": null,
      "outputs": []
    },
    {
      "cell_type": "code",
      "source": [
        "hjhjhjhjhjhjhj"
      ],
      "metadata": {
        "id": "_Vn1VsN9qTXj"
      },
      "execution_count": null,
      "outputs": []
    },
    {
      "cell_type": "markdown",
      "source": [
        "## Feature Engineering"
      ],
      "metadata": {
        "id": "qq8jwif30r5R"
      }
    },
    {
      "cell_type": "code",
      "source": [
        "# Feature Engineering\n",
        "df['year'] = df['date'].dt.year\n",
        "df['month'] = df['date'].dt.month"
      ],
      "metadata": {
        "id": "eh-s24ZdzDc4"
      },
      "execution_count": null,
      "outputs": []
    },
    {
      "cell_type": "code",
      "source": [
        "df.head()"
      ],
      "metadata": {
        "id": "UepXeslD0uaY"
      },
      "execution_count": null,
      "outputs": []
    },
    {
      "cell_type": "code",
      "source": [
        "# # Save the cleaned data\n",
        "# df.to_csv(\"cleaned_data.csv\", index=False)"
      ],
      "metadata": {
        "id": "2gAvVfnG0wVX"
      },
      "execution_count": null,
      "outputs": []
    },
    {
      "cell_type": "markdown",
      "source": [
        "## With Spark"
      ],
      "metadata": {
        "id": "dLP5_VilpwzB"
      }
    },
    {
      "cell_type": "code",
      "source": [
        "from pyspark.sql import SparkSession\n",
        "import time\n",
        "\n",
        "# Initialize Spark session\n",
        "spark = SparkSession.builder.appName(\"PerformanceComparison\").getOrCreate()\n",
        "\n",
        "# Measure load time\n",
        "start_time = time.time()\n",
        "\n",
        "# Load dataset\n",
        "df_spark = spark.read.csv(\"/content/drive/MyDrive/Colab Notebooks/Datasets/wfp_food_prices_lka.csv\", header=True, inferSchema=True)\n",
        "\n",
        "end_time = time.time()\n",
        "spark_load_time = end_time - start_time\n",
        "print(f\"Spark Load Time: {spark_load_time:.4f} seconds\")\n",
        "\n",
        "# Show schema and sample rows\n",
        "df_spark.printSchema()\n",
        "df_spark.show(5)"
      ],
      "metadata": {
        "id": "JUxGm1rsg1bM"
      },
      "execution_count": null,
      "outputs": []
    },
    {
      "cell_type": "code",
      "source": [
        "from pyspark.sql.functions import col, sum\n",
        "\n",
        "# Count missing values for each column\n",
        "missing_values = df_spark.select([sum(col(c).isNull().cast(\"int\")).alias(c) for c in df_spark.columns])\n",
        "\n",
        "# Show missing value counts\n",
        "missing_values.show()"
      ],
      "metadata": {
        "id": "6Q9g5lLbqGZC"
      },
      "execution_count": null,
      "outputs": []
    },
    {
      "cell_type": "code",
      "source": [
        "from pyspark.sql.functions import col\n",
        "\n",
        "# Measure cleaning time\n",
        "start_time = time.time()\n",
        "\n",
        "df_spark = df_spark.dropna(subset=['admin1', 'admin2', 'latitude', 'longitude'])\n",
        "\n",
        "end_time = time.time()\n",
        "spark_clean_time = end_time - start_time\n",
        "print(f\"Spark Clean Time: {spark_clean_time:.4f} seconds\")\n",
        "\n",
        "# Show cleaned data\n",
        "df_spark.show(5)"
      ],
      "metadata": {
        "id": "U8UbxaOqqt91"
      },
      "execution_count": null,
      "outputs": []
    },
    {
      "cell_type": "code",
      "source": [
        "from pyspark.sql.functions import col, sum\n",
        "\n",
        "# Count missing values for each column\n",
        "missing_values = df_spark.select([sum(col(c).isNull().cast(\"int\")).alias(c) for c in df_spark.columns])\n",
        "\n",
        "# Show missing value counts\n",
        "missing_values.show()"
      ],
      "metadata": {
        "id": "rz9gL1uPq6FM"
      },
      "execution_count": null,
      "outputs": []
    },
    {
      "cell_type": "code",
      "source": [
        "# Rename columns\n",
        "df_spark = df_spark.withColumnRenamed(\"admin1\", \"province\") \\\n",
        "                   .withColumnRenamed(\"admin2\", \"district\")\n",
        "\n",
        "# Show updated schema\n",
        "df_spark.printSchema()"
      ],
      "metadata": {
        "id": "z5C6ET-NrN7n"
      },
      "execution_count": null,
      "outputs": []
    },
    {
      "cell_type": "code",
      "source": [
        "df_spark.show(5)"
      ],
      "metadata": {
        "id": "IMkfyxbjz1S_"
      },
      "execution_count": null,
      "outputs": []
    },
    {
      "cell_type": "code",
      "source": [
        "from pyspark.sql.functions import to_date\n",
        "import time\n",
        "\n",
        "# Measure execution time\n",
        "start_time = time.time()\n",
        "\n",
        "# Convert 'date' column to Spark Date format (Assuming the format is '%m/%d/%Y')\n",
        "df_spark = df_spark.withColumn(\"date\", to_date(df_spark[\"date\"], \"MM/dd/yyyy\"))\n",
        "\n",
        "end_time = time.time()\n",
        "spark_datetime_time = end_time - start_time\n",
        "print(f\"Spark Convert 'date' column to datetime format Time: {spark_datetime_time:.4f} seconds\")"
      ],
      "metadata": {
        "id": "lzU8MEUxz3C-"
      },
      "execution_count": null,
      "outputs": []
    },
    {
      "cell_type": "code",
      "source": [
        "from pyspark.sql.functions import year, month\n",
        "\n",
        "# Measure execution time\n",
        "start_time = time.time()\n",
        "\n",
        "# Extract year and month from the 'date' column\n",
        "df_spark = df_spark.withColumn(\"year\", year(df_spark[\"date\"])) \\\n",
        "                   .withColumn(\"month\", month(df_spark[\"date\"]))\n",
        "\n",
        "end_time = time.time()\n",
        "feature_engineering_time = end_time - start_time\n",
        "print(f\"Spark Feature Engineering Time: {feature_engineering_time:.4f} seconds\")"
      ],
      "metadata": {
        "id": "rPs_L_SS2hhO"
      },
      "execution_count": null,
      "outputs": []
    },
    {
      "cell_type": "markdown",
      "source": [
        "## Predictive Analytics with Spark MLlib\n",
        "\n",
        "---\n",
        "\n"
      ],
      "metadata": {
        "id": "-phs7OnCDuhI"
      }
    },
    {
      "cell_type": "markdown",
      "source": [
        "### Set up Spark Environment"
      ],
      "metadata": {
        "id": "LIsULaxkMjDh"
      }
    },
    {
      "cell_type": "code",
      "source": [
        "from pyspark.sql import SparkSession\n",
        "spark = SparkSession.builder.appName(\"FoodPricePredictiveAnalytics\").getOrCreate()"
      ],
      "metadata": {
        "id": "q7NjVVgrmD7s"
      },
      "execution_count": null,
      "outputs": []
    },
    {
      "cell_type": "markdown",
      "source": [
        "### Load Data"
      ],
      "metadata": {
        "id": "YT8XJeQsNkAa"
      }
    },
    {
      "cell_type": "code",
      "source": [
        "df_ml = spark.read.csv(\"/content/drive/MyDrive/Colab Notebooks/Datasets/wfp_food_prices_lka_cleaned_data.csv\", header=True, inferSchema=True)\n",
        "df_ml.printSchema()"
      ],
      "metadata": {
        "id": "FeMtaIwVM-sn"
      },
      "execution_count": null,
      "outputs": []
    },
    {
      "cell_type": "code",
      "source": [],
      "metadata": {
        "id": "FVYGIrdqN1_m"
      },
      "execution_count": null,
      "outputs": []
    }
  ]
}